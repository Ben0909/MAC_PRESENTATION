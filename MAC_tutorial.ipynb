{
  "cells": [
    {
      "cell_type": "markdown",
      "metadata": {
        "pycharm": {
          "name": "#%% md\n"
        },
        "id": "938hZr21QP7j"
      },
      "source": [
        "### Imports"
      ]
    },
    {
      "cell_type": "code",
      "source": [
        "!pip install git+https://github.com/sarah-keren/MAC\n"
      ],
      "metadata": {
        "colab": {
          "base_uri": "https://localhost:8080/"
        },
        "id": "1krVnN5cQRe5",
        "outputId": "e0ac3be2-f98a-405a-b870-b4d39224b990"
      },
      "execution_count": 1,
      "outputs": [
        {
          "output_type": "stream",
          "name": "stdout",
          "text": [
            "Collecting git+https://github.com/sarah-keren/MAC\n",
            "  Cloning https://github.com/sarah-keren/MAC to /tmp/pip-req-build-m5egstmt\n",
            "  Running command git clone -q https://github.com/sarah-keren/MAC /tmp/pip-req-build-m5egstmt\n",
            "  Running command git submodule update --init --recursive -q\n",
            "  Installing build dependencies ... \u001b[?25l\u001b[?25hdone\n",
            "  Getting requirements to build wheel ... \u001b[?25l\u001b[?25hdone\n",
            "    Preparing wheel metadata ... \u001b[?25l\u001b[?25hdone\n",
            "Building wheels for collected packages: multi-agent-control\n",
            "  Building wheel for multi-agent-control (PEP 517) ... \u001b[?25l\u001b[?25hdone\n",
            "  Created wheel for multi-agent-control: filename=multi_agent_control-0.0.2-py3-none-any.whl size=5761 sha256=1dba2bf3cc7a84a8f1c417da2a6fd0e946a3cf57684b03179e12cd61c9dc47e7\n",
            "  Stored in directory: /tmp/pip-ephem-wheel-cache-xok_8fe2/wheels/d2/b5/75/266763a6766cbb4afc7542444789afcd2edb49c523ea43d35f\n",
            "Successfully built multi-agent-control\n",
            "Installing collected packages: multi-agent-control\n",
            "Successfully installed multi-agent-control-0.0.2\n"
          ]
        }
      ]
    },
    {
      "cell_type": "code",
      "source": [
        "!pip install git+https://github.com/sarah-keren/multi_taxi\n"
      ],
      "metadata": {
        "colab": {
          "base_uri": "https://localhost:8080/"
        },
        "id": "dGAG7fouQfwy",
        "outputId": "b37f2d11-2d83-41a0-da49-7eb9735cdfc1"
      },
      "execution_count": 2,
      "outputs": [
        {
          "output_type": "stream",
          "name": "stdout",
          "text": [
            "Collecting git+https://github.com/sarah-keren/multi_taxi\n",
            "  Cloning https://github.com/sarah-keren/multi_taxi to /tmp/pip-req-build-g8soukcf\n",
            "  Running command git clone -q https://github.com/sarah-keren/multi_taxi /tmp/pip-req-build-g8soukcf\n",
            "Requirement already satisfied: numpy>=1.10.4 in /usr/local/lib/python3.7/dist-packages (from multi-taxi==0.0.0) (1.21.6)\n",
            "Collecting gym==0.22.0\n",
            "  Downloading gym-0.22.0.tar.gz (631 kB)\n",
            "\u001b[K     |████████████████████████████████| 631 kB 8.6 MB/s \n",
            "\u001b[?25h  Installing build dependencies ... \u001b[?25l\u001b[?25hdone\n",
            "  Getting requirements to build wheel ... \u001b[?25l\u001b[?25hdone\n",
            "    Preparing wheel metadata ... \u001b[?25l\u001b[?25hdone\n",
            "Collecting ray==1.10.0\n",
            "  Downloading ray-1.10.0-cp37-cp37m-manylinux2014_x86_64.whl (59.6 MB)\n",
            "\u001b[K     |████████████████████████████████| 59.6 MB 1.3 MB/s \n",
            "\u001b[?25hCollecting ray[rllib]\n",
            "  Downloading ray-1.12.0-cp37-cp37m-manylinux2014_x86_64.whl (53.2 MB)\n",
            "\u001b[K     |████████████████████████████████| 53.2 MB 107 kB/s \n",
            "\u001b[?25hRequirement already satisfied: cloudpickle>=1.2.0 in /usr/local/lib/python3.7/dist-packages (from gym==0.22.0->multi-taxi==0.0.0) (1.3.0)\n",
            "Requirement already satisfied: importlib-metadata>=4.10.0 in /usr/local/lib/python3.7/dist-packages (from gym==0.22.0->multi-taxi==0.0.0) (4.11.3)\n",
            "Collecting gym-notices>=0.0.4\n",
            "  Downloading gym_notices-0.0.6-py3-none-any.whl (2.7 kB)\n",
            "Requirement already satisfied: jsonschema in /usr/local/lib/python3.7/dist-packages (from ray==1.10.0->multi-taxi==0.0.0) (4.3.3)\n",
            "Requirement already satisfied: msgpack<2.0.0,>=1.0.0 in /usr/local/lib/python3.7/dist-packages (from ray==1.10.0->multi-taxi==0.0.0) (1.0.3)\n",
            "Requirement already satisfied: pyyaml in /usr/local/lib/python3.7/dist-packages (from ray==1.10.0->multi-taxi==0.0.0) (3.13)\n",
            "Requirement already satisfied: protobuf>=3.15.3 in /usr/local/lib/python3.7/dist-packages (from ray==1.10.0->multi-taxi==0.0.0) (3.17.3)\n",
            "Collecting redis>=3.5.0\n",
            "  Downloading redis-4.3.1-py3-none-any.whl (241 kB)\n",
            "\u001b[K     |████████████████████████████████| 241 kB 65.5 MB/s \n",
            "\u001b[?25hRequirement already satisfied: filelock in /usr/local/lib/python3.7/dist-packages (from ray==1.10.0->multi-taxi==0.0.0) (3.6.0)\n",
            "Requirement already satisfied: click>=7.0 in /usr/local/lib/python3.7/dist-packages (from ray==1.10.0->multi-taxi==0.0.0) (7.1.2)\n",
            "Requirement already satisfied: attrs in /usr/local/lib/python3.7/dist-packages (from ray==1.10.0->multi-taxi==0.0.0) (21.4.0)\n",
            "Requirement already satisfied: grpcio>=1.28.1 in /usr/local/lib/python3.7/dist-packages (from ray==1.10.0->multi-taxi==0.0.0) (1.44.0)\n",
            "Requirement already satisfied: six>=1.5.2 in /usr/local/lib/python3.7/dist-packages (from grpcio>=1.28.1->ray==1.10.0->multi-taxi==0.0.0) (1.15.0)\n",
            "Requirement already satisfied: zipp>=0.5 in /usr/local/lib/python3.7/dist-packages (from importlib-metadata>=4.10.0->gym==0.22.0->multi-taxi==0.0.0) (3.8.0)\n",
            "Requirement already satisfied: typing-extensions>=3.6.4 in /usr/local/lib/python3.7/dist-packages (from importlib-metadata>=4.10.0->gym==0.22.0->multi-taxi==0.0.0) (4.2.0)\n",
            "Collecting deprecated>=1.2.3\n",
            "  Downloading Deprecated-1.2.13-py2.py3-none-any.whl (9.6 kB)\n",
            "Requirement already satisfied: packaging>=20.4 in /usr/local/lib/python3.7/dist-packages (from redis>=3.5.0->ray==1.10.0->multi-taxi==0.0.0) (21.3)\n",
            "Collecting async-timeout>=4.0.2\n",
            "  Downloading async_timeout-4.0.2-py3-none-any.whl (5.8 kB)\n",
            "Requirement already satisfied: wrapt<2,>=1.10 in /usr/local/lib/python3.7/dist-packages (from deprecated>=1.2.3->redis>=3.5.0->ray==1.10.0->multi-taxi==0.0.0) (1.14.0)\n",
            "Requirement already satisfied: pyparsing!=3.0.5,>=2.0.2 in /usr/local/lib/python3.7/dist-packages (from packaging>=20.4->redis>=3.5.0->ray==1.10.0->multi-taxi==0.0.0) (3.0.8)\n",
            "Requirement already satisfied: pyrsistent!=0.17.0,!=0.17.1,!=0.17.2,>=0.14.0 in /usr/local/lib/python3.7/dist-packages (from jsonschema->ray==1.10.0->multi-taxi==0.0.0) (0.18.1)\n",
            "Requirement already satisfied: importlib-resources>=1.4.0 in /usr/local/lib/python3.7/dist-packages (from jsonschema->ray==1.10.0->multi-taxi==0.0.0) (5.7.1)\n",
            "Collecting ray[rllib]\n",
            "  Downloading ray-1.11.1-cp37-cp37m-manylinux2014_x86_64.whl (52.7 MB)\n",
            "\u001b[K     |████████████████████████████████| 52.7 MB 66 kB/s \n",
            "\u001b[?25h  Downloading ray-1.11.0-cp37-cp37m-manylinux2014_x86_64.whl (52.7 MB)\n",
            "\u001b[K     |████████████████████████████████| 52.7 MB 81 kB/s \n",
            "\u001b[?25hRequirement already satisfied: dm-tree in /usr/local/lib/python3.7/dist-packages (from ray==1.10.0->multi-taxi==0.0.0) (0.1.7)\n",
            "Collecting lz4\n",
            "  Downloading lz4-4.0.0-cp37-cp37m-manylinux_2_17_x86_64.manylinux2014_x86_64.whl (1.2 MB)\n",
            "\u001b[K     |████████████████████████████████| 1.2 MB 51.8 MB/s \n",
            "\u001b[?25hRequirement already satisfied: scikit-image in /usr/local/lib/python3.7/dist-packages (from ray==1.10.0->multi-taxi==0.0.0) (0.18.3)\n",
            "Requirement already satisfied: requests in /usr/local/lib/python3.7/dist-packages (from ray==1.10.0->multi-taxi==0.0.0) (2.23.0)\n",
            "Requirement already satisfied: tabulate in /usr/local/lib/python3.7/dist-packages (from ray==1.10.0->multi-taxi==0.0.0) (0.8.9)\n",
            "Collecting tensorboardX>=1.9\n",
            "  Downloading tensorboardX-2.5-py2.py3-none-any.whl (125 kB)\n",
            "\u001b[K     |████████████████████████████████| 125 kB 57.9 MB/s \n",
            "\u001b[?25hRequirement already satisfied: scipy in /usr/local/lib/python3.7/dist-packages (from ray==1.10.0->multi-taxi==0.0.0) (1.4.1)\n",
            "Requirement already satisfied: matplotlib!=3.4.3 in /usr/local/lib/python3.7/dist-packages (from ray==1.10.0->multi-taxi==0.0.0) (3.2.2)\n",
            "Requirement already satisfied: pandas in /usr/local/lib/python3.7/dist-packages (from ray==1.10.0->multi-taxi==0.0.0) (1.3.5)\n",
            "Requirement already satisfied: cycler>=0.10 in /usr/local/lib/python3.7/dist-packages (from matplotlib!=3.4.3->ray==1.10.0->multi-taxi==0.0.0) (0.11.0)\n",
            "Requirement already satisfied: kiwisolver>=1.0.1 in /usr/local/lib/python3.7/dist-packages (from matplotlib!=3.4.3->ray==1.10.0->multi-taxi==0.0.0) (1.4.2)\n",
            "Requirement already satisfied: python-dateutil>=2.1 in /usr/local/lib/python3.7/dist-packages (from matplotlib!=3.4.3->ray==1.10.0->multi-taxi==0.0.0) (2.8.2)\n",
            "Requirement already satisfied: pytz>=2017.3 in /usr/local/lib/python3.7/dist-packages (from pandas->ray==1.10.0->multi-taxi==0.0.0) (2022.1)\n",
            "Requirement already satisfied: certifi>=2017.4.17 in /usr/local/lib/python3.7/dist-packages (from requests->ray==1.10.0->multi-taxi==0.0.0) (2021.10.8)\n",
            "Requirement already satisfied: idna<3,>=2.5 in /usr/local/lib/python3.7/dist-packages (from requests->ray==1.10.0->multi-taxi==0.0.0) (2.10)\n",
            "Requirement already satisfied: urllib3!=1.25.0,!=1.25.1,<1.26,>=1.21.1 in /usr/local/lib/python3.7/dist-packages (from requests->ray==1.10.0->multi-taxi==0.0.0) (1.24.3)\n",
            "Requirement already satisfied: chardet<4,>=3.0.2 in /usr/local/lib/python3.7/dist-packages (from requests->ray==1.10.0->multi-taxi==0.0.0) (3.0.4)\n",
            "Requirement already satisfied: imageio>=2.3.0 in /usr/local/lib/python3.7/dist-packages (from scikit-image->ray==1.10.0->multi-taxi==0.0.0) (2.4.1)\n",
            "Requirement already satisfied: pillow!=7.1.0,!=7.1.1,>=4.3.0 in /usr/local/lib/python3.7/dist-packages (from scikit-image->ray==1.10.0->multi-taxi==0.0.0) (7.1.2)\n",
            "Requirement already satisfied: tifffile>=2019.7.26 in /usr/local/lib/python3.7/dist-packages (from scikit-image->ray==1.10.0->multi-taxi==0.0.0) (2021.11.2)\n",
            "Requirement already satisfied: networkx>=2.0 in /usr/local/lib/python3.7/dist-packages (from scikit-image->ray==1.10.0->multi-taxi==0.0.0) (2.6.3)\n",
            "Requirement already satisfied: PyWavelets>=1.1.1 in /usr/local/lib/python3.7/dist-packages (from scikit-image->ray==1.10.0->multi-taxi==0.0.0) (1.3.0)\n",
            "Building wheels for collected packages: multi-taxi, gym\n",
            "  Building wheel for multi-taxi (setup.py) ... \u001b[?25l\u001b[?25hdone\n",
            "  Created wheel for multi-taxi: filename=multi_taxi-0.0.0-py3-none-any.whl size=24739 sha256=61472855eb7c9bcbbdce55ad117abbc9aac42a75aabb271e1dcf2dda72dec01d\n",
            "  Stored in directory: /tmp/pip-ephem-wheel-cache-8t2a_j3q/wheels/2f/3d/ac/a27e57f0b19c66b9beb3e4afb1b3c965c685447c4fe59278dc\n",
            "  Building wheel for gym (PEP 517) ... \u001b[?25l\u001b[?25hdone\n",
            "  Created wheel for gym: filename=gym-0.22.0-py3-none-any.whl size=708395 sha256=aeef8bf883a6c9ddd4db173b34dd5d5106345d2c1bc3940ab11f6c330d28ce34\n",
            "  Stored in directory: /root/.cache/pip/wheels/7d/5e/87/7d50e0179edda70feff5bba05c381041e1c1fd80c6b06a4cc3\n",
            "Successfully built multi-taxi gym\n",
            "Installing collected packages: deprecated, async-timeout, redis, gym-notices, tensorboardX, ray, lz4, gym, multi-taxi\n",
            "  Attempting uninstall: gym\n",
            "    Found existing installation: gym 0.17.3\n",
            "    Uninstalling gym-0.17.3:\n",
            "      Successfully uninstalled gym-0.17.3\n",
            "Successfully installed async-timeout-4.0.2 deprecated-1.2.13 gym-0.22.0 gym-notices-0.0.6 lz4-4.0.0 multi-taxi-0.0.0 ray-1.10.0 redis-4.3.1 tensorboardX-2.5\n"
          ]
        }
      ]
    },
    {
      "cell_type": "code",
      "execution_count": 3,
      "metadata": {
        "pycharm": {
          "is_executing": false,
          "name": "#%%\n"
        },
        "id": "gNAabzFNQP7q"
      },
      "outputs": [],
      "source": [
        "import sys\n",
        "import numpy as np\n",
        "from control.controller_decentralized import DecentralizedController\n",
        "from control.controller_centralized import CentralizedController\n",
        "from agents.agent import Agent, RandomDecisionMaker\n",
        "from environments.env_wrapper import EnvWrappper\n"
      ]
    },
    {
      "cell_type": "markdown",
      "metadata": {
        "id": "Hm05B8gHQP7s"
      },
      "source": [
        "### Environment Setup"
      ]
    },
    {
      "cell_type": "code",
      "execution_count": 4,
      "metadata": {
        "pycharm": {
          "is_executing": false,
          "name": "#%%\n"
        },
        "colab": {
          "base_uri": "https://localhost:8080/"
        },
        "id": "7taGcg31QP7t",
        "outputId": "4bf1c894-20fe-4721-e028-c47f920e819c"
      },
      "outputs": [
        {
          "output_type": "stream",
          "name": "stderr",
          "text": [
            "\n"
          ]
        },
        {
          "output_type": "stream",
          "name": "stdout",
          "text": [
            "Initializing environment...\n"
          ]
        }
      ],
      "source": [
        "from multi_taxi.taxi_environment import TaxiEnv\n",
        "      \n",
        "print('Initializing environment...')\n",
        "env = TaxiEnv(num_taxis=3)\n",
        "# Make sure it works with our API:\n",
        "env.agents = env.taxis_names\n",
        "env.action_spaces = {\n",
        "    agent_name: env.action_space for agent_name in env.agents\n",
        "}\n",
        "env.observation_spaces = {\n",
        "    agent_name: env.observation_space for agent_name in env.agents\n",
        "}\n",
        "env.possible_agents = [agent for agent in env.agents]\n",
        "needs_conv = False\n",
        "       \n",
        "environment = EnvWrappper(env, needs_conv=needs_conv)\n",
        "\n"
      ]
    },
    {
      "cell_type": "markdown",
      "metadata": {
        "id": "hpQJIt_eQP7w"
      },
      "source": [
        "## Decentralized\n"
      ]
    },
    {
      "cell_type": "code",
      "execution_count": 5,
      "metadata": {
        "pycharm": {
          "is_executing": false,
          "name": "#%%\n"
        },
        "id": "fJeqWA7WQP7z"
      },
      "outputs": [],
      "source": [
        "env_agents = environment.get_env_agents()\n",
        "decentralized_agents = {agent_name: Agent(RandomDecisionMaker(env.action_space))\n",
        "          for agent_name in env_agents}"
      ]
    },
    {
      "cell_type": "markdown",
      "metadata": {
        "id": "COjkDLcFQP70"
      },
      "source": [
        "### Run Test"
      ]
    },
    {
      "cell_type": "code",
      "execution_count": 7,
      "metadata": {
        "pycharm": {
          "is_executing": false,
          "name": "#%%\n"
        },
        "colab": {
          "base_uri": "https://localhost:8080/"
        },
        "id": "VvIj8vbSQP70",
        "outputId": "056c7c28-b09a-441b-d3b6-913d7621115a"
      },
      "outputs": [
        {
          "output_type": "stream",
          "name": "stdout",
          "text": [
            "+-----------------------+\n",
            "| : |F: | : | : | : |F: |\n",
            "| : | : : : | : | : | : |\n",
            "| : : :\u001b[43m_\u001b[0m:\u001b[41m_\u001b[0m: : : : : : : |\n",
            "| : : : : : | : : : :\u001b[33;1mP\u001b[0m: |\n",
            "| : : : : : | : : : : : |\n",
            "|\u001b[32m\u001b[33;1mD\u001b[0m\u001b[0m: : : : : : : : : : :\u001b[47m_\u001b[0m|\n",
            "| | :G| | | :G| | | : | |\n",
            "+-----------------------+\n",
            "Taxi0-YELLOW: Fuel: inf, Location: (2,3), Collided: False\n",
            "Taxi1-RED: Fuel: inf, Location: (2,4), Collided: False\n",
            "Taxi2-WHITE: Fuel: inf, Location: (5,11), Collided: False\n",
            "Passenger1: Location: (3, 10), Destination: (5, 0)\n",
            "Done: False, {'taxi_0': False, 'taxi_1': False, 'taxi_2': False, '__all__': False}\n",
            "Passengers Status's: [2]\n",
            "+-----------------------+\n",
            "| : |F: | : | : | : |F: |\n",
            "| : | : : : | : | : | : |\n",
            "| : : :\u001b[43m_\u001b[0m:\u001b[41m_\u001b[0m: : : : : : : |\n",
            "| : : : : : | : : : :\u001b[33;1mP\u001b[0m: |\n",
            "| : : : : : | : : : : :\u001b[47m_\u001b[0m|\n",
            "|\u001b[32m\u001b[33;1mD\u001b[0m\u001b[0m: : : : : : : : : : : |\n",
            "| | :G| | | :G| | | : | |\n",
            "+-----------------------+\n",
            "Taxi0-YELLOW: Fuel: inf, Location: (2,3), Collided: False\n",
            "Taxi1-RED: Fuel: inf, Location: (2,4), Collided: False\n",
            "Taxi2-WHITE: Fuel: inf, Location: (4,11), Collided: False\n",
            "Passenger1: Location: (3, 10), Destination: (5, 0)\n",
            "Done: False, {'taxi_0': False, 'taxi_1': False, 'taxi_2': False, '__all__': False}\n",
            "Passengers Status's: [2]\n",
            "+-----------------------+\n",
            "| : |F: | : | : | : |F: |\n",
            "| : | : : : | : | : | : |\n",
            "| : : : :\u001b[41m\u001b[43m_\u001b[0m\u001b[0m: : : : : : : |\n",
            "| : : : : : | : : : :\u001b[33;1mP\u001b[0m: |\n",
            "| : : : : : | : : : : :\u001b[47m_\u001b[0m|\n",
            "|\u001b[32m\u001b[33;1mD\u001b[0m\u001b[0m: : : : : : : : : : : |\n",
            "| | :G| | | :G| | | : | |\n",
            "+-----------------------+\n",
            "Taxi0-YELLOW: Fuel: inf, Location: (2,4), Collided: False\n",
            "Taxi1-RED: Fuel: inf, Location: (2,4), Collided: False\n",
            "Taxi2-WHITE: Fuel: inf, Location: (4,11), Collided: False\n",
            "Passenger1: Location: (3, 10), Destination: (5, 0)\n",
            "Done: False, {'taxi_0': False, 'taxi_1': False, 'taxi_2': False, '__all__': False}\n",
            "Passengers Status's: [2]\n",
            "+-----------------------+\n",
            "| : |F: | : | : | : |F: |\n",
            "| : | : : : | : | : | : |\n",
            "| : : :\u001b[43m_\u001b[0m:\u001b[41m_\u001b[0m: : : : : : : |\n",
            "| : : : : : | : : : :\u001b[33;1mP\u001b[0m: |\n",
            "| : : : : : | : : : : :\u001b[47m_\u001b[0m|\n",
            "|\u001b[32m\u001b[33;1mD\u001b[0m\u001b[0m: : : : : : : : : : : |\n",
            "| | :G| | | :G| | | : | |\n",
            "+-----------------------+\n",
            "Taxi0-YELLOW: Fuel: inf, Location: (2,3), Collided: False\n",
            "Taxi1-RED: Fuel: inf, Location: (2,4), Collided: False\n",
            "Taxi2-WHITE: Fuel: inf, Location: (4,11), Collided: False\n",
            "Passenger1: Location: (3, 10), Destination: (5, 0)\n",
            "Done: False, {'taxi_0': False, 'taxi_1': False, 'taxi_2': False, '__all__': False}\n",
            "Passengers Status's: [2]\n",
            "+-----------------------+\n",
            "| : |F: | : | : | : |F: |\n",
            "| : | : : : | : | : | : |\n",
            "| : : : :\u001b[41m_\u001b[0m: : : : : : : |\n",
            "| : : :\u001b[43m_\u001b[0m: : | : : : :\u001b[33;1mP\u001b[0m: |\n",
            "| : : : : : | : : : : :\u001b[47m_\u001b[0m|\n",
            "|\u001b[32m\u001b[33;1mD\u001b[0m\u001b[0m: : : : : : : : : : : |\n",
            "| | :G| | | :G| | | : | |\n",
            "+-----------------------+\n",
            "Taxi0-YELLOW: Fuel: inf, Location: (3,3), Collided: False\n",
            "Taxi1-RED: Fuel: inf, Location: (2,4), Collided: False\n",
            "Taxi2-WHITE: Fuel: inf, Location: (4,11), Collided: False\n",
            "Passenger1: Location: (3, 10), Destination: (5, 0)\n",
            "Done: False, {'taxi_0': False, 'taxi_1': False, 'taxi_2': False, '__all__': False}\n",
            "Passengers Status's: [2]\n",
            "+-----------------------+\n",
            "| : |F: | : | : | : |F: |\n",
            "| : | : :\u001b[41m_\u001b[0m: | : | : | : |\n",
            "| : : : : : : : : : : : |\n",
            "| : :\u001b[43m_\u001b[0m: : : | : : : :\u001b[33;1mP\u001b[0m: |\n",
            "| : : : : : | : : : : : |\n",
            "|\u001b[32m\u001b[33;1mD\u001b[0m\u001b[0m: : : : : : : : : : :\u001b[47m_\u001b[0m|\n",
            "| | :G| | | :G| | | : | |\n",
            "+-----------------------+\n",
            "Taxi0-YELLOW: Fuel: inf, Location: (3,2), Collided: False\n",
            "Taxi1-RED: Fuel: inf, Location: (1,4), Collided: False\n",
            "Taxi2-WHITE: Fuel: inf, Location: (5,11), Collided: False\n",
            "Passenger1: Location: (3, 10), Destination: (5, 0)\n",
            "Done: False, {'taxi_0': False, 'taxi_1': False, 'taxi_2': False, '__all__': False}\n",
            "Passengers Status's: [2]\n",
            "+-----------------------+\n",
            "| : |F: | : | : | : |F: |\n",
            "| : | :\u001b[41m_\u001b[0m: : | : | : | : |\n",
            "| : : : : : : : : : : : |\n",
            "| :\u001b[43m_\u001b[0m: : : : | : : : :\u001b[33;1mP\u001b[0m: |\n",
            "| : : : : : | : : : : : |\n",
            "|\u001b[32m\u001b[33;1mD\u001b[0m\u001b[0m: : : : : : : : : : :\u001b[47m_\u001b[0m|\n",
            "| | :G| | | :G| | | : | |\n",
            "+-----------------------+\n",
            "Taxi0-YELLOW: Fuel: inf, Location: (3,1), Collided: False\n",
            "Taxi1-RED: Fuel: inf, Location: (1,3), Collided: False\n",
            "Taxi2-WHITE: Fuel: inf, Location: (5,11), Collided: False\n",
            "Passenger1: Location: (3, 10), Destination: (5, 0)\n",
            "Done: False, {'taxi_0': False, 'taxi_1': False, 'taxi_2': False, '__all__': False}\n",
            "Passengers Status's: [2]\n",
            "+-----------------------+\n",
            "| : |F: | : | : | : |F: |\n",
            "| : | : :\u001b[41m_\u001b[0m: | : | : | : |\n",
            "| : : : : : : : : : : : |\n",
            "| : : : : : | : : : :\u001b[33;1mP\u001b[0m: |\n",
            "| :\u001b[43m_\u001b[0m: : : : | : : : : : |\n",
            "|\u001b[32m\u001b[33;1mD\u001b[0m\u001b[0m: : : : : : : : : : :\u001b[47m_\u001b[0m|\n",
            "| | :G| | | :G| | | : | |\n",
            "+-----------------------+\n",
            "Taxi0-YELLOW: Fuel: inf, Location: (4,1), Collided: False\n",
            "Taxi1-RED: Fuel: inf, Location: (1,4), Collided: False\n",
            "Taxi2-WHITE: Fuel: inf, Location: (5,11), Collided: False\n",
            "Passenger1: Location: (3, 10), Destination: (5, 0)\n",
            "Done: False, {'taxi_0': False, 'taxi_1': False, 'taxi_2': False, '__all__': False}\n",
            "Passengers Status's: [2]\n",
            "+-----------------------+\n",
            "| : |F: | : | : | : |F: |\n",
            "| : | : : : | : | : | : |\n",
            "| : : : :\u001b[41m_\u001b[0m: : : : : : : |\n",
            "| : : : : : | : : : :\u001b[33;1mP\u001b[0m: |\n",
            "| :\u001b[43m_\u001b[0m: : : : | : : : : : |\n",
            "|\u001b[32m\u001b[33;1mD\u001b[0m\u001b[0m: : : : : : : : : : :\u001b[47m_\u001b[0m|\n",
            "| | :G| | | :G| | | : | |\n",
            "+-----------------------+\n",
            "Taxi0-YELLOW: Fuel: inf, Location: (4,1), Collided: False\n",
            "Taxi1-RED: Fuel: inf, Location: (2,4), Collided: False\n",
            "Taxi2-WHITE: Fuel: inf, Location: (5,11), Collided: False\n",
            "Passenger1: Location: (3, 10), Destination: (5, 0)\n",
            "Done: False, {'taxi_0': False, 'taxi_1': False, 'taxi_2': False, '__all__': False}\n",
            "Passengers Status's: [2]\n",
            "+-----------------------+\n",
            "| : |F: | : | : | : |F: |\n",
            "| : | : : : | : | : | : |\n",
            "| : : : : : : : : : : : |\n",
            "| :\u001b[43m_\u001b[0m: : :\u001b[41m_\u001b[0m: | : : : :\u001b[33;1mP\u001b[0m: |\n",
            "| : : : : : | : : : : : |\n",
            "|\u001b[32m\u001b[33;1mD\u001b[0m\u001b[0m: : : : : : : : : : :\u001b[47m_\u001b[0m|\n",
            "| | :G| | | :G| | | : | |\n",
            "+-----------------------+\n",
            "Taxi0-YELLOW: Fuel: inf, Location: (3,1), Collided: False\n",
            "Taxi1-RED: Fuel: inf, Location: (3,4), Collided: False\n",
            "Taxi2-WHITE: Fuel: inf, Location: (5,11), Collided: False\n",
            "Passenger1: Location: (3, 10), Destination: (5, 0)\n",
            "Done: False, {'taxi_0': False, 'taxi_1': False, 'taxi_2': False, '__all__': False}\n",
            "Passengers Status's: [2]\n",
            "+-----------------------+\n",
            "| : |F: | : | : | : |F: |\n",
            "| : | : : : | : | : | : |\n",
            "| : : : : : : : : : : : |\n",
            "| :\u001b[43m_\u001b[0m: : : : | : : : :\u001b[33;1mP\u001b[0m: |\n",
            "| : : : :\u001b[41m_\u001b[0m: | : : : : : |\n",
            "|\u001b[32m\u001b[33;1mD\u001b[0m\u001b[0m: : : : : : : : : : :\u001b[47m_\u001b[0m|\n",
            "| | :G| | | :G| | | : | |\n",
            "+-----------------------+\n",
            "Taxi0-YELLOW: Fuel: inf, Location: (3,1), Collided: False\n",
            "Taxi1-RED: Fuel: inf, Location: (4,4), Collided: False\n",
            "Taxi2-WHITE: Fuel: inf, Location: (5,11), Collided: False\n",
            "Passenger1: Location: (3, 10), Destination: (5, 0)\n",
            "Done: False, {'taxi_0': False, 'taxi_1': False, 'taxi_2': False, '__all__': False}\n",
            "Passengers Status's: [2]\n"
          ]
        }
      ],
      "source": [
        "controller = DecentralizedController(environment, decentralized_agents)\n",
        "controller.run(render=True, max_iteration=10)"
      ]
    },
    {
      "cell_type": "markdown",
      "metadata": {
        "pycharm": {
          "name": "#%% md\n"
        },
        "id": "MUMN29I6QP71"
      },
      "source": [
        "## Centralized"
      ]
    },
    {
      "cell_type": "markdown",
      "metadata": {
        "pycharm": {
          "name": "#%% md\n"
        },
        "id": "KJLMaAgVQP72"
      },
      "source": [
        "#### Choose Central Agent\n",
        "\n",
        "In the policy variable enter one of the following options:\n",
        "    - Policy Gradient = 'pg'\n",
        "    - Deep Policy Gradient = 'dpg'\n",
        "    - Deep Q-Network = 'dqn'\n",
        "\n"
      ]
    },
    {
      "cell_type": "code",
      "execution_count": 8,
      "metadata": {
        "pycharm": {
          "is_executing": false,
          "name": "#%%\n"
        },
        "id": "6llNXVpAQP72"
      },
      "outputs": [],
      "source": [
        "central_random_agent = Agent(RandomDecisionMaker(env.action_space))\n",
        "env_agents = environment.get_env_agents()\n",
        "env_agents_dict = {agent_name: None  for agent_name in env_agents}"
      ]
    },
    {
      "cell_type": "markdown",
      "metadata": {
        "id": "ryDR08APQP72"
      },
      "source": [
        "### Run Test"
      ]
    },
    {
      "cell_type": "code",
      "execution_count": 9,
      "metadata": {
        "pycharm": {
          "is_executing": false,
          "name": "#%%\n"
        },
        "colab": {
          "base_uri": "https://localhost:8080/"
        },
        "id": "J7kS2dPGQP73",
        "outputId": "4ba1173a-0cc6-4548-a72a-5b2a86b47ee0"
      },
      "outputs": [
        {
          "output_type": "stream",
          "name": "stdout",
          "text": [
            "+-----------------------+\n",
            "| :\u001b[43m_\u001b[0m|F: | : | : | : |F: |\n",
            "| : | : : : | :\u001b[32m\u001b[33;1mD\u001b[0m\u001b[0m| : | : |\n",
            "| : : : :\u001b[33;1mP\u001b[0m: : : : : : : |\n",
            "| : : : : : | : : :\u001b[47m_\u001b[0m: : |\n",
            "| : : : : : | : : : : : |\n",
            "| : : : : : : : : : : : |\n",
            "| | :\u001b[41mG\u001b[0m| | | :G| | | : | |\n",
            "+-----------------------+\n",
            "Taxi0-YELLOW: Fuel: inf, Location: (0,1), Collided: False\n",
            "Taxi1-RED: Fuel: inf, Location: (6,2), Collided: False\n",
            "Taxi2-WHITE: Fuel: inf, Location: (3,9), Collided: False\n",
            "Passenger1: Location: (2, 4), Destination: (1, 7)\n",
            "Done: False, {'taxi_0': False, 'taxi_1': False, 'taxi_2': False, '__all__': False}\n",
            "Passengers Status's: [2]\n",
            "+-----------------------+\n",
            "| : |F: | : | : | : |F: |\n",
            "| :\u001b[43m_\u001b[0m| : : : | :\u001b[32m\u001b[33;1mD\u001b[0m\u001b[0m| : | : |\n",
            "| : : : :\u001b[33;1mP\u001b[0m: : : : : : : |\n",
            "| : : : : : | : : : :\u001b[47m_\u001b[0m: |\n",
            "| : : : : : | : : : : : |\n",
            "| : : : : : : : : : : : |\n",
            "| | :\u001b[41mG\u001b[0m| | | :G| | | : | |\n",
            "+-----------------------+\n",
            "Taxi0-YELLOW: Fuel: inf, Location: (1,1), Collided: False\n",
            "Taxi1-RED: Fuel: inf, Location: (6,2), Collided: False\n",
            "Taxi2-WHITE: Fuel: inf, Location: (3,10), Collided: False\n",
            "Passenger1: Location: (2, 4), Destination: (1, 7)\n",
            "Done: False, {'taxi_0': False, 'taxi_1': False, 'taxi_2': False, '__all__': False}\n",
            "Passengers Status's: [2]\n",
            "+-----------------------+\n",
            "| : |F: | : | : | : |F: |\n",
            "| : | : : : | :\u001b[32m\u001b[33;1mD\u001b[0m\u001b[0m| : | : |\n",
            "| :\u001b[43m_\u001b[0m: : :\u001b[33;1mP\u001b[0m: : : : : : : |\n",
            "| : : : : : | : : : :\u001b[47m_\u001b[0m: |\n",
            "| : : : : : | : : : : : |\n",
            "| : : : : : : : : : : : |\n",
            "| | :\u001b[41mG\u001b[0m| | | :G| | | : | |\n",
            "+-----------------------+\n",
            "Taxi0-YELLOW: Fuel: inf, Location: (2,1), Collided: False\n",
            "Taxi1-RED: Fuel: inf, Location: (6,2), Collided: False\n",
            "Taxi2-WHITE: Fuel: inf, Location: (3,10), Collided: False\n",
            "Passenger1: Location: (2, 4), Destination: (1, 7)\n",
            "Done: False, {'taxi_0': False, 'taxi_1': False, 'taxi_2': False, '__all__': False}\n",
            "Passengers Status's: [2]\n",
            "+-----------------------+\n",
            "| : |F: | : | : | : |F: |\n",
            "| : | : : : | :\u001b[32m\u001b[33;1mD\u001b[0m\u001b[0m| : | : |\n",
            "| : : : :\u001b[33;1mP\u001b[0m: : : : : : : |\n",
            "| :\u001b[43m_\u001b[0m: : : : | : : : :\u001b[47m_\u001b[0m: |\n",
            "| : : : : : | : : : : : |\n",
            "| : : : : : : : : : : : |\n",
            "| | :\u001b[41mG\u001b[0m| | | :G| | | : | |\n",
            "+-----------------------+\n",
            "Taxi0-YELLOW: Fuel: inf, Location: (3,1), Collided: False\n",
            "Taxi1-RED: Fuel: inf, Location: (6,2), Collided: False\n",
            "Taxi2-WHITE: Fuel: inf, Location: (3,10), Collided: False\n",
            "Passenger1: Location: (2, 4), Destination: (1, 7)\n",
            "Done: False, {'taxi_0': False, 'taxi_1': False, 'taxi_2': False, '__all__': False}\n",
            "Passengers Status's: [2]\n",
            "+-----------------------+\n",
            "| : |F: | : | : | : |F: |\n",
            "| : | : : : | :\u001b[32m\u001b[33;1mD\u001b[0m\u001b[0m| : | : |\n",
            "| : : : :\u001b[33;1mP\u001b[0m: : : : : : : |\n",
            "| : : : : : | : : :\u001b[47m_\u001b[0m: : |\n",
            "| :\u001b[43m_\u001b[0m: : : : | : : : : : |\n",
            "| : : : : : : : : : : : |\n",
            "| | :\u001b[41mG\u001b[0m| | | :G| | | : | |\n",
            "+-----------------------+\n",
            "Taxi0-YELLOW: Fuel: inf, Location: (4,1), Collided: False\n",
            "Taxi1-RED: Fuel: inf, Location: (6,2), Collided: False\n",
            "Taxi2-WHITE: Fuel: inf, Location: (3,9), Collided: False\n",
            "Passenger1: Location: (2, 4), Destination: (1, 7)\n",
            "Done: False, {'taxi_0': False, 'taxi_1': False, 'taxi_2': False, '__all__': False}\n",
            "Passengers Status's: [2]\n",
            "+-----------------------+\n",
            "| : |F: | : | : | : |F: |\n",
            "| : | : : : | :\u001b[32m\u001b[33;1mD\u001b[0m\u001b[0m| : | : |\n",
            "| : : : :\u001b[33;1mP\u001b[0m: : : : : : : |\n",
            "| : : : : : | : : :\u001b[47m_\u001b[0m: : |\n",
            "| : : : : : | : : : : : |\n",
            "| :\u001b[43m_\u001b[0m: : : : : : : : : : |\n",
            "| | :\u001b[41mG\u001b[0m| | | :G| | | : | |\n",
            "+-----------------------+\n",
            "Taxi0-YELLOW: Fuel: inf, Location: (5,1), Collided: False\n",
            "Taxi1-RED: Fuel: inf, Location: (6,2), Collided: False\n",
            "Taxi2-WHITE: Fuel: inf, Location: (3,9), Collided: False\n",
            "Passenger1: Location: (2, 4), Destination: (1, 7)\n",
            "Done: False, {'taxi_0': False, 'taxi_1': False, 'taxi_2': False, '__all__': False}\n",
            "Passengers Status's: [2]\n",
            "+-----------------------+\n",
            "| : |F: | : | : | : |F: |\n",
            "| : | : : : | :\u001b[32m\u001b[33;1mD\u001b[0m\u001b[0m| : | : |\n",
            "| : : : :\u001b[33;1mP\u001b[0m: : : : :\u001b[47m_\u001b[0m: : |\n",
            "| : : : : : | : : : : : |\n",
            "| : : : : : | : : : : : |\n",
            "| : : : : : : : : : : : |\n",
            "| |\u001b[43m_\u001b[0m:\u001b[41mG\u001b[0m| | | :G| | | : | |\n",
            "+-----------------------+\n",
            "Taxi0-YELLOW: Fuel: inf, Location: (6,1), Collided: False\n",
            "Taxi1-RED: Fuel: inf, Location: (6,2), Collided: False\n",
            "Taxi2-WHITE: Fuel: inf, Location: (2,9), Collided: False\n",
            "Passenger1: Location: (2, 4), Destination: (1, 7)\n",
            "Done: False, {'taxi_0': False, 'taxi_1': False, 'taxi_2': False, '__all__': False}\n",
            "Passengers Status's: [2]\n",
            "+-----------------------+\n",
            "| : |F: | : | : | : |F: |\n",
            "| : | : : : | :\u001b[32m\u001b[33;1mD\u001b[0m\u001b[0m| : | : |\n",
            "| : : : :\u001b[33;1mP\u001b[0m: : : :\u001b[47m_\u001b[0m: : : |\n",
            "| : : : : : | : : : : : |\n",
            "| : : : : : | : : : : : |\n",
            "| : : : : : : : : : : : |\n",
            "| |\u001b[43m_\u001b[0m:\u001b[41mG\u001b[0m| | | :G| | | : | |\n",
            "+-----------------------+\n",
            "Taxi0-YELLOW: Fuel: inf, Location: (6,1), Collided: False\n",
            "Taxi1-RED: Fuel: inf, Location: (6,2), Collided: False\n",
            "Taxi2-WHITE: Fuel: inf, Location: (2,8), Collided: False\n",
            "Passenger1: Location: (2, 4), Destination: (1, 7)\n",
            "Done: False, {'taxi_0': False, 'taxi_1': False, 'taxi_2': False, '__all__': False}\n",
            "Passengers Status's: [2]\n",
            "+-----------------------+\n",
            "| : |F: | : | : | : |F: |\n",
            "| : | : : : | :\u001b[32m\u001b[33;1mD\u001b[0m\u001b[0m|\u001b[47m_\u001b[0m: | : |\n",
            "| : : : :\u001b[33;1mP\u001b[0m: : : : : : : |\n",
            "| : : : : : | : : : : : |\n",
            "| : : : : : | : : : : : |\n",
            "| : : : : : : : : : : : |\n",
            "| |\u001b[43m_\u001b[0m:\u001b[41mG\u001b[0m| | | :G| | | : | |\n",
            "+-----------------------+\n",
            "Taxi0-YELLOW: Fuel: inf, Location: (6,1), Collided: False\n",
            "Taxi1-RED: Fuel: inf, Location: (6,2), Collided: False\n",
            "Taxi2-WHITE: Fuel: inf, Location: (1,8), Collided: False\n",
            "Passenger1: Location: (2, 4), Destination: (1, 7)\n",
            "Done: False, {'taxi_0': False, 'taxi_1': False, 'taxi_2': False, '__all__': False}\n",
            "Passengers Status's: [2]\n",
            "+-----------------------+\n",
            "| : |F: | : | : |\u001b[47m_\u001b[0m: |F: |\n",
            "| : | : : : | :\u001b[32m\u001b[33;1mD\u001b[0m\u001b[0m| : | : |\n",
            "| : : : :\u001b[33;1mP\u001b[0m: : : : : : : |\n",
            "| : : : : : | : : : : : |\n",
            "| : : : : : | : : : : : |\n",
            "| : : : : : : : : : : : |\n",
            "| |\u001b[43m_\u001b[0m:\u001b[41mG\u001b[0m| | | :G| | | : | |\n",
            "+-----------------------+\n",
            "Taxi0-YELLOW: Fuel: inf, Location: (6,1), Collided: False\n",
            "Taxi1-RED: Fuel: inf, Location: (6,2), Collided: False\n",
            "Taxi2-WHITE: Fuel: inf, Location: (0,8), Collided: False\n",
            "Passenger1: Location: (2, 4), Destination: (1, 7)\n",
            "Done: False, {'taxi_0': False, 'taxi_1': False, 'taxi_2': False, '__all__': False}\n",
            "Passengers Status's: [2]\n",
            "+-----------------------+\n",
            "| : |F: | : | : | :\u001b[47m_\u001b[0m|F: |\n",
            "| : | : : : | :\u001b[32m\u001b[33;1mD\u001b[0m\u001b[0m| : | : |\n",
            "| : : : :\u001b[33;1mP\u001b[0m: : : : : : : |\n",
            "| : : : : : | : : : : : |\n",
            "| : : : : : | : : : : : |\n",
            "| : : : : : : : : : : : |\n",
            "| |\u001b[43m_\u001b[0m:\u001b[41mG\u001b[0m| | | :G| | | : | |\n",
            "+-----------------------+\n",
            "Taxi0-YELLOW: Fuel: inf, Location: (6,1), Collided: False\n",
            "Taxi1-RED: Fuel: inf, Location: (6,2), Collided: False\n",
            "Taxi2-WHITE: Fuel: inf, Location: (0,9), Collided: False\n",
            "Passenger1: Location: (2, 4), Destination: (1, 7)\n",
            "Done: False, {'taxi_0': False, 'taxi_1': False, 'taxi_2': False, '__all__': False}\n",
            "Passengers Status's: [2]\n"
          ]
        }
      ],
      "source": [
        "controller = CentralizedController(environment, env_agents_dict, central_random_agent)\n",
        "controller.run(render=True, max_iteration=10)\n"
      ]
    },
    {
      "cell_type": "code",
      "source": [
        ""
      ],
      "metadata": {
        "id": "HVuoivHiciC0"
      },
      "execution_count": null,
      "outputs": []
    }
  ],
  "metadata": {
    "kernelspec": {
      "display_name": "Python 3",
      "language": "python",
      "name": "python3"
    },
    "language_info": {
      "codemirror_mode": {
        "name": "ipython",
        "version": 3
      },
      "file_extension": ".py",
      "mimetype": "text/x-python",
      "name": "python",
      "nbconvert_exporter": "python",
      "pygments_lexer": "ipython3",
      "version": "3.7.1"
    },
    "pycharm": {
      "stem_cell": {
        "cell_type": "raw",
        "metadata": {
          "collapsed": false
        },
        "source": []
      }
    },
    "colab": {
      "name": "example_colab.ipynb",
      "provenance": []
    }
  },
  "nbformat": 4,
  "nbformat_minor": 0
}