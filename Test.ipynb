{
 "cells": [
  {
   "cell_type": "markdown",
   "metadata": {
    "pycharm": {
     "name": "#%% md\n"
    }
   },
   "source": [
    "### Imports"
   ]
  },
  {
   "cell_type": "code",
   "execution_count": 1,
   "metadata": {
    "pycharm": {
     "is_executing": false,
     "name": "#%%\n"
    }
   },
   "outputs": [],
   "source": [
    "import sys\n",
    "import numpy as np\n",
    "sys.path.append('..')\n",
    "from MAC.control.controller_decentralized_RL import DecentralizedRL\n",
    "from MAC.control.controller_centralized_RL import CentralizedRL\n",
    "from MAC.agents.deep_policy_gradient import DeepPolicyGradient\n",
    "from MAC.agents.policy_gradient import PolicyGradient\n",
    "from MAC.agents.deep_q import DQN\n",
    "from MAC.agents.agent import Agent\n",
    "from MAC.environments.env_wrapper import EnvWrappper\n"
   ]
  },
  {
   "cell_type": "markdown",
   "metadata": {},
   "source": [
    "### Environment Setup"
   ]
  },
  {
   "cell_type": "code",
   "execution_count": 2,
   "metadata": {
    "pycharm": {
     "is_executing": false,
     "name": "#%%\n"
    }
   },
   "outputs": [],
   "source": [
    "def set_env(environment_name):\n",
    "    print('Initializing environment...')\n",
    "\n",
    "    if environment_name == 'taxi':\n",
    "        sys.path.append('../environments/MultiTaxiEnv')\n",
    "        from MAC.environments.MultiTaxiEnv.taxi_environment import TaxiEnv\n",
    "        env = TaxiEnv(2)\n",
    "        # Make sure it works with our API:\n",
    "        env.agents = env.taxis_names\n",
    "        env.action_spaces = {\n",
    "            agent_name: env.action_space for agent_name in env.agents\n",
    "        }\n",
    "        env.observation_spaces = {\n",
    "            agent_name: env.observation_space for agent_name in env.agents\n",
    "        }\n",
    "        env.possible_agents = [agent for agent in env.agents]\n",
    "        needs_conv = False\n",
    "\n",
    "    elif environment_name == 'cleanup':\n",
    "        sys.path.append('../environments/cleanup')\n",
    "        from MAC.environments.cleanup.social_dilemmas.envs.cleanup import CleanupEnv\n",
    "        env = CleanupEnv(num_agents=5, render=True)\n",
    "        env.action_spaces = {\n",
    "            agent_name: env.action_space for agent_name in env.agents\n",
    "        }\n",
    "        env.observation_spaces = {\n",
    "            agent_name: env.observation_space for agent_name in env.agents\n",
    "        }\n",
    "        env.possible_agents = [agent for agent in env.agents.keys()]\n",
    "        needs_conv = True\n",
    "        \n",
    "    # Petting Zoo:\n",
    "    elif environment_name == 'particle':\n",
    "        from pettingzoo.mpe import simple_spread_v2\n",
    "        env = simple_spread_v2.parallel_env(max_cycles=np.inf)\n",
    "        needs_conv = False\n",
    "        \n",
    "    elif environment_name == 'piston':\n",
    "        from pettingzoo.butterfly import pistonball_v4\n",
    "        env = pistonball_v4.parallel_env(continuous=False)\n",
    "        needs_conv = True\n",
    "        \n",
    "    else:\n",
    "        print(\"Invalid Enviornment Name!\")\n",
    "        return\n",
    "        \n",
    "    return EnvWrappper(env, needs_conv=needs_conv)\n",
    "\n"
   ]
  },
  {
   "cell_type": "markdown",
   "metadata": {},
   "source": [
    "#### Choose Environment\n",
    "In the name variable enter one of the following options:\n",
    "    - MultiTaxi = 'taxi'\n",
    "    - Cleanup = 'cleanup'\n",
    "    - Particle = 'particle'\n",
    "    - PistonBall = 'piston'\n",
    "    "
   ]
  },
  {
   "cell_type": "code",
   "execution_count": 3,
   "metadata": {
    "pycharm": {
     "is_executing": false,
     "name": "#%%\n"
    }
   },
   "outputs": [
    {
     "name": "stdout",
     "text": [
      "Initializing environment...\n"
     ],
     "output_type": "stream"
    }
   ],
   "source": [
    "###\n",
    "name = \"taxi\"\n",
    "environment = set_env(name)"
   ]
  },
  {
   "cell_type": "markdown",
   "metadata": {},
   "source": [
    "## Decentralized\n"
   ]
  },
  {
   "cell_type": "markdown",
   "metadata": {},
   "source": [
    "### Agents Setup"
   ]
  },
  {
   "cell_type": "code",
   "execution_count": 4,
   "outputs": [],
   "source": [
    "def create_decentralized_agent(policy_name, env):\n",
    "    num_obs = env.get_num_obs()\n",
    "    num_actions = env.get_num_actions()\n",
    "    needs_conv = env.get_needs_conv()\n",
    "    mapping_fn = lambda x: x.flatten() if not needs_conv else None\n",
    "    \n",
    "    if policy_name == 'pg':\n",
    "        return Agent(PolicyGradient(num_actions, num_obs, mapping_fn=mapping_fn))\n",
    "    \n",
    "    elif policy_name == 'dpg':\n",
    "        return Agent(DeepPolicyGradient(num_obs, num_actions, is_conv=needs_conv,\n",
    "                                        mapping_fn=mapping_fn)) \n",
    "        \n",
    "    elif policy_name == 'dqn':\n",
    "        return Agent(DQN(num_obs, num_actions, is_conv=needs_conv,\n",
    "                                        mapping_fn=mapping_fn)) \n",
    "        \n",
    "    print(\"Invalid Policy!\")       \n",
    "    return\n"
   ],
   "metadata": {
    "collapsed": false,
    "pycharm": {
     "name": "#%% \n",
     "is_executing": false
    }
   }
  },
  {
   "cell_type": "markdown",
   "metadata": {},
   "source": [
    "#### Choose Agents\n",
    "\n",
    "In the policy variable enter one of the following options:\n",
    "    - Policy Gradient = 'pg'\n",
    "    - Deep Policy Gradient = 'dpg'\n",
    "    - Deep Q-Network = 'dqn'\n",
    "\n"
   ]
  },
  {
   "cell_type": "code",
   "execution_count": 5,
   "outputs": [],
   "source": [
    "decentralized_policy = \"pg\"\n",
    "env_agents = environment.get_env_agents()\n",
    "decentralized_agents = {agent_name: create_decentralized_agent(decentralized_policy, environment)\n",
    "          for agent_name in env_agents}"
   ],
   "metadata": {
    "collapsed": false,
    "pycharm": {
     "name": "#%%\n",
     "is_executing": false
    }
   }
  },
  {
   "cell_type": "markdown",
   "metadata": {},
   "source": [
    "### Run Test"
   ]
  },
  {
   "cell_type": "code",
   "execution_count": 6,
   "outputs": [
    {
     "name": "stdout",
     "text": [
      "Training...\n",
      "Starting training...\n",
      "Finished Training\n",
      "+---------+\n",
      "|\u001b[35mX\u001b[0m: |F: :X|\n",
      "| : | : : |\n",
      "| : : : : |\n",
      "| | : | :\u001b[43m_\u001b[0m|\n",
      "|\u001b[34;1mX\u001b[0m| :G|\u001b[41mX\u001b[0m: |\n",
      "+---------+\n",
      "Taxi1-YELLOW: Fuel: 100, Location: (3,4), Collided: False\n",
      "Taxi2-RED: Fuel: 100, Location: (4,3), Collided: False\n",
      "Passenger1: Location: (4, 0), Destination: (0, 0)\n",
      "Done: False, {'taxi_1': False, 'taxi_2': False, '__all__': False}\n",
      "Passengers Status's: [2]\n",
      "+---------+\n",
      "|\u001b[35mX\u001b[0m: |F: :X|\n",
      "| : | : : |\n",
      "| : : : :\u001b[43m_\u001b[0m|\n",
      "| | : | : |\n",
      "|\u001b[34;1mX\u001b[0m| :G|\u001b[41mX\u001b[0m: |\n",
      "+---------+\n",
      "  (north ,refuel)\n",
      "Taxi1-YELLOW: Fuel: 99, Location: (2,4), Collided: False\n",
      "Taxi2-RED: Fuel: 100, Location: (4,3), Collided: False\n",
      "Passenger1: Location: (4, 0), Destination: (0, 0)\n",
      "Done: False, {'taxi_1': False, 'taxi_2': False, '__all__': False}\n",
      "Passengers Status's: [2]\n",
      "+---------+\n",
      "|\u001b[35mX\u001b[0m: |F: :X|\n",
      "| : | : :\u001b[43m_\u001b[0m|\n",
      "| : : : : |\n",
      "| | : | : |\n",
      "|\u001b[34;1mX\u001b[0m| :G|\u001b[41mX\u001b[0m: |\n",
      "+---------+\n",
      "  (north ,refuel)\n",
      "Taxi1-YELLOW: Fuel: 98, Location: (1,4), Collided: False\n",
      "Taxi2-RED: Fuel: 100, Location: (4,3), Collided: False\n",
      "Passenger1: Location: (4, 0), Destination: (0, 0)\n",
      "Done: False, {'taxi_1': False, 'taxi_2': False, '__all__': False}\n",
      "Passengers Status's: [2]\n",
      "+---------+\n",
      "|\u001b[35mX\u001b[0m: |F: :\u001b[43mX\u001b[0m|\n",
      "| : | : : |\n",
      "| : : : : |\n",
      "| | : | : |\n",
      "|\u001b[34;1mX\u001b[0m| :G|\u001b[41mX\u001b[0m: |\n",
      "+---------+\n",
      "  (north ,refuel)\n",
      "Taxi1-YELLOW: Fuel: 97, Location: (0,4), Collided: False\n",
      "Taxi2-RED: Fuel: 100, Location: (4,3), Collided: False\n",
      "Passenger1: Location: (4, 0), Destination: (0, 0)\n",
      "Done: False, {'taxi_1': False, 'taxi_2': False, '__all__': False}\n",
      "Passengers Status's: [2]\n",
      "+---------+\n",
      "|\u001b[35mX\u001b[0m: |F: :\u001b[43mX\u001b[0m|\n",
      "| : | : : |\n",
      "| : : : : |\n",
      "| | : | : |\n",
      "|\u001b[34;1mX\u001b[0m| :G|\u001b[41mX\u001b[0m: |\n",
      "+---------+\n",
      "  (north ,refuel)\n",
      "Taxi1-YELLOW: Fuel: 97, Location: (0,4), Collided: False\n",
      "Taxi2-RED: Fuel: 100, Location: (4,3), Collided: False\n",
      "Passenger1: Location: (4, 0), Destination: (0, 0)\n",
      "Done: False, {'taxi_1': False, 'taxi_2': False, '__all__': False}\n",
      "Passengers Status's: [2]\n",
      "+---------+\n",
      "|\u001b[35mX\u001b[0m: |F: :\u001b[43mX\u001b[0m|\n",
      "| : | : : |\n",
      "| : : : : |\n",
      "| | : | : |\n",
      "|\u001b[34;1mX\u001b[0m| :G|\u001b[41mX\u001b[0m: |\n",
      "+---------+\n",
      "  (north ,refuel)\n",
      "Taxi1-YELLOW: Fuel: 97, Location: (0,4), Collided: False\n",
      "Taxi2-RED: Fuel: 100, Location: (4,3), Collided: False\n",
      "Passenger1: Location: (4, 0), Destination: (0, 0)\n",
      "Done: False, {'taxi_1': False, 'taxi_2': False, '__all__': False}\n",
      "Passengers Status's: [2]\n",
      "+---------+\n",
      "|\u001b[35mX\u001b[0m: |F: :\u001b[43mX\u001b[0m|\n",
      "| : | : : |\n",
      "| : : : : |\n",
      "| | : | : |\n",
      "|\u001b[34;1mX\u001b[0m| :G|\u001b[41mX\u001b[0m: |\n",
      "+---------+\n",
      "  (north ,refuel)\n",
      "Taxi1-YELLOW: Fuel: 97, Location: (0,4), Collided: False\n",
      "Taxi2-RED: Fuel: 100, Location: (4,3), Collided: False\n",
      "Passenger1: Location: (4, 0), Destination: (0, 0)\n",
      "Done: False, {'taxi_1': False, 'taxi_2': False, '__all__': False}\n",
      "Passengers Status's: [2]\n",
      "+---------+\n",
      "|\u001b[35mX\u001b[0m: |F: :\u001b[43mX\u001b[0m|\n",
      "| : | : : |\n",
      "| : : : : |\n",
      "| | : | : |\n",
      "|\u001b[34;1mX\u001b[0m| :G|\u001b[41mX\u001b[0m: |\n",
      "+---------+\n",
      "  (north ,refuel)\n",
      "Taxi1-YELLOW: Fuel: 97, Location: (0,4), Collided: False\n",
      "Taxi2-RED: Fuel: 100, Location: (4,3), Collided: False\n",
      "Passenger1: Location: (4, 0), Destination: (0, 0)\n",
      "Done: False, {'taxi_1': False, 'taxi_2': False, '__all__': False}\n",
      "Passengers Status's: [2]\n",
      "+---------+\n",
      "|\u001b[35mX\u001b[0m: |F: :\u001b[43mX\u001b[0m|\n",
      "| : | : : |\n",
      "| : : : : |\n",
      "| | : | : |\n",
      "|\u001b[34;1mX\u001b[0m| :G|\u001b[41mX\u001b[0m: |\n",
      "+---------+\n",
      "  (north ,refuel)\n",
      "Taxi1-YELLOW: Fuel: 97, Location: (0,4), Collided: False\n",
      "Taxi2-RED: Fuel: 100, Location: (4,3), Collided: False\n",
      "Passenger1: Location: (4, 0), Destination: (0, 0)\n",
      "Done: False, {'taxi_1': False, 'taxi_2': False, '__all__': False}\n",
      "Passengers Status's: [2]\n",
      "+---------+\n",
      "|\u001b[35mX\u001b[0m: |F: :\u001b[43mX\u001b[0m|\n",
      "| : | : : |\n",
      "| : : : : |\n",
      "| | : | : |\n",
      "|\u001b[34;1mX\u001b[0m| :G|\u001b[41mX\u001b[0m: |\n",
      "+---------+\n",
      "  (north ,refuel)\n",
      "Taxi1-YELLOW: Fuel: 97, Location: (0,4), Collided: False\n",
      "Taxi2-RED: Fuel: 100, Location: (4,3), Collided: False\n",
      "Passenger1: Location: (4, 0), Destination: (0, 0)\n",
      "Done: False, {'taxi_1': False, 'taxi_2': False, '__all__': False}\n",
      "Passengers Status's: [2]\n",
      "+---------+\n",
      "|\u001b[35mX\u001b[0m: |F: :\u001b[43mX\u001b[0m|\n",
      "| : | : : |\n",
      "| : : : : |\n",
      "| | : | : |\n",
      "|\u001b[34;1mX\u001b[0m| :G|\u001b[41mX\u001b[0m: |\n",
      "+---------+\n",
      "  (north ,refuel)\n",
      "Taxi1-YELLOW: Fuel: 97, Location: (0,4), Collided: False\n",
      "Taxi2-RED: Fuel: 100, Location: (4,3), Collided: False\n",
      "Passenger1: Location: (4, 0), Destination: (0, 0)\n",
      "Done: False, {'taxi_1': False, 'taxi_2': False, '__all__': False}\n",
      "Passengers Status's: [2]\n"
     ],
     "output_type": "stream"
    }
   ],
   "source": [
    "controller = DecentralizedRL(environment, decentralized_agents)\n",
    "controller.run(render=True, max_iteration=10, max_episode_len=25, num_episodes=10, batch_size=0)"
   ],
   "metadata": {
    "collapsed": false,
    "pycharm": {
     "name": "#%%\n",
     "is_executing": false
    }
   }
  },
  {
   "cell_type": "markdown",
   "metadata": {
    "pycharm": {
     "name": "#%% md\n"
    }
   },
   "source": [
    "## Centralized"
   ]
  },
  {
   "cell_type": "markdown",
   "metadata": {},
   "source": [
    "### Agent Setup"
   ]
  },
  {
   "cell_type": "code",
   "execution_count": 22,
   "metadata": {
    "pycharm": {
     "name": "#%% \n",
     "is_executing": false
    }
   },
   "outputs": [],
   "source": [
    "def create_centralized_agent(policy_name, env):\n",
    "    needs_conv = env.get_needs_conv()\n",
    "    num_obs = env.get_num_obs() if needs_conv else\\\n",
    "        (1, env.get_num_obs()[::-1][0] * (len(env.get_env_agents())))\n",
    "    num_actions = (env.get_num_actions()) ** (len(env.get_env_agents()))    \n",
    "    mapping_fn = lambda x: x.flatten() if not needs_conv else None\n",
    "    \n",
    "    if policy_name == 'pg':\n",
    "        return Agent(PolicyGradient(num_actions, num_obs, mapping_fn=mapping_fn))\n",
    "    \n",
    "    elif policy_name == 'dpg':\n",
    "        return Agent(DeepPolicyGradient(num_obs, num_actions, is_conv=needs_conv,\n",
    "                                        mapping_fn=mapping_fn)) \n",
    "        \n",
    "    elif policy_name == 'dqn':\n",
    "        return Agent(DQN(num_obs, num_actions, is_conv=needs_conv,\n",
    "                                        mapping_fn=mapping_fn)) \n",
    "        \n",
    "    print(\"Invalid Policy!\")       \n",
    "    return"
   ]
  },
  {
   "cell_type": "markdown",
   "metadata": {
    "pycharm": {
     "name": "#%% md\n"
    }
   },
   "source": [
    "#### Choose Central Agent\n",
    "\n",
    "In the policy variable enter one of the following options:\n",
    "    - Policy Gradient = 'pg'\n",
    "    - Deep Policy Gradient = 'dpg'\n",
    "    - Deep Q-Network = 'dqn'\n",
    "\n"
   ]
  },
  {
   "cell_type": "code",
   "execution_count": 23,
   "metadata": {
    "pycharm": {
     "is_executing": false,
     "name": "#%%\n"
    }
   },
   "outputs": [],
   "source": [
    "centralized_policy = \"pg\"\n",
    "decision_maker = create_centralized_agent(centralized_policy, environment)\n",
    "env_agents = environment.get_env_agents()\n",
    "centralized_agents = {agent_name: None  for agent_name in env_agents}"
   ]
  },
  {
   "cell_type": "markdown",
   "metadata": {},
   "source": [
    "### Run Test"
   ]
  },
  {
   "cell_type": "code",
   "execution_count": 24,
   "metadata": {
    "pycharm": {
     "is_executing": false,
     "name": "#%%\n"
    }
   },
   "outputs": [
    {
     "name": "stdout",
     "text": [
      "Training...\n",
      "Starting training...\n",
      "Finished Training\n",
      "+---------+\n",
      "|\u001b[35mX\u001b[0m: |F: :X|\n",
      "| : | : : |\n",
      "| : : : : |\n",
      "| | : | : |\n",
      "|X| :\u001b[41mG\u001b[0m|\u001b[43m\u001b[34;1mX\u001b[0m\u001b[0m: |\n",
      "+---------+\n",
      "Taxi1-YELLOW: Fuel: 100, Location: (4,3), Collided: False\n",
      "Taxi2-RED: Fuel: 100, Location: (4,2), Collided: False\n",
      "Passenger1: Location: (4, 3), Destination: (0, 0)\n",
      "Done: False, {'taxi_1': False, 'taxi_2': False, '__all__': False}\n",
      "Passengers Status's: [2]\n",
      "+---------+\n",
      "|\u001b[35mX\u001b[0m: |F: :X|\n",
      "| : | : : |\n",
      "| : : : : |\n",
      "| | : | : |\n",
      "|X| :\u001b[41mG\u001b[0m|\u001b[43m\u001b[34;1mX\u001b[0m\u001b[0m: |\n",
      "+---------+\n",
      "  (west ,refuel)\n",
      "Taxi1-YELLOW: Fuel: 100, Location: (4,3), Collided: False\n",
      "Taxi2-RED: Fuel: 100, Location: (4,2), Collided: False\n",
      "Passenger1: Location: (4, 3), Destination: (0, 0)\n",
      "Done: False, {'taxi_1': False, 'taxi_2': False, '__all__': False}\n",
      "Passengers Status's: [2]\n",
      "+---------+\n",
      "|\u001b[35mX\u001b[0m: |F: :X|\n",
      "| : | : : |\n",
      "| : : : : |\n",
      "| | : | : |\n",
      "|X| :\u001b[41mG\u001b[0m|\u001b[43m\u001b[34;1mX\u001b[0m\u001b[0m: |\n",
      "+---------+\n",
      "  (west ,refuel)\n",
      "Taxi1-YELLOW: Fuel: 100, Location: (4,3), Collided: False\n",
      "Taxi2-RED: Fuel: 100, Location: (4,2), Collided: False\n",
      "Passenger1: Location: (4, 3), Destination: (0, 0)\n",
      "Done: False, {'taxi_1': False, 'taxi_2': False, '__all__': False}\n",
      "Passengers Status's: [2]\n",
      "+---------+\n",
      "|\u001b[35mX\u001b[0m: |F: :X|\n",
      "| : | : : |\n",
      "| : : : : |\n",
      "| | : | : |\n",
      "|X| :\u001b[41mG\u001b[0m|\u001b[43m\u001b[34;1mX\u001b[0m\u001b[0m: |\n",
      "+---------+\n",
      "  (west ,refuel)\n",
      "Taxi1-YELLOW: Fuel: 100, Location: (4,3), Collided: False\n",
      "Taxi2-RED: Fuel: 100, Location: (4,2), Collided: False\n",
      "Passenger1: Location: (4, 3), Destination: (0, 0)\n",
      "Done: False, {'taxi_1': False, 'taxi_2': False, '__all__': False}\n",
      "Passengers Status's: [2]\n",
      "+---------+\n",
      "|\u001b[35mX\u001b[0m: |F: :X|\n",
      "| : | : : |\n",
      "| : : : : |\n",
      "| | : | : |\n",
      "|X| :\u001b[41mG\u001b[0m|\u001b[43m\u001b[34;1mX\u001b[0m\u001b[0m: |\n",
      "+---------+\n",
      "  (west ,refuel)\n",
      "Taxi1-YELLOW: Fuel: 100, Location: (4,3), Collided: False\n",
      "Taxi2-RED: Fuel: 100, Location: (4,2), Collided: False\n",
      "Passenger1: Location: (4, 3), Destination: (0, 0)\n",
      "Done: False, {'taxi_1': False, 'taxi_2': False, '__all__': False}\n",
      "Passengers Status's: [2]\n",
      "+---------+\n",
      "|\u001b[35mX\u001b[0m: |F: :X|\n",
      "| : | : : |\n",
      "| : : : : |\n",
      "| | : | : |\n",
      "|X| :\u001b[41mG\u001b[0m|\u001b[43m\u001b[34;1mX\u001b[0m\u001b[0m: |\n",
      "+---------+\n",
      "  (west ,refuel)\n",
      "Taxi1-YELLOW: Fuel: 100, Location: (4,3), Collided: False\n",
      "Taxi2-RED: Fuel: 100, Location: (4,2), Collided: False\n",
      "Passenger1: Location: (4, 3), Destination: (0, 0)\n",
      "Done: False, {'taxi_1': False, 'taxi_2': False, '__all__': False}\n",
      "Passengers Status's: [2]\n",
      "+---------+\n",
      "|\u001b[35mX\u001b[0m: |F: :X|\n",
      "| : | : : |\n",
      "| : : : : |\n",
      "| | : | : |\n",
      "|X| :\u001b[41mG\u001b[0m|\u001b[43m\u001b[34;1mX\u001b[0m\u001b[0m: |\n",
      "+---------+\n",
      "  (west ,refuel)\n",
      "Taxi1-YELLOW: Fuel: 100, Location: (4,3), Collided: False\n",
      "Taxi2-RED: Fuel: 100, Location: (4,2), Collided: False\n",
      "Passenger1: Location: (4, 3), Destination: (0, 0)\n",
      "Done: False, {'taxi_1': False, 'taxi_2': False, '__all__': False}\n",
      "Passengers Status's: [2]\n",
      "+---------+\n",
      "|\u001b[35mX\u001b[0m: |F: :X|\n",
      "| : | : : |\n",
      "| : : : : |\n",
      "| | : | : |\n",
      "|X| :\u001b[41mG\u001b[0m|\u001b[43m\u001b[34;1mX\u001b[0m\u001b[0m: |\n",
      "+---------+\n",
      "  (west ,refuel)\n",
      "Taxi1-YELLOW: Fuel: 100, Location: (4,3), Collided: False\n",
      "Taxi2-RED: Fuel: 100, Location: (4,2), Collided: False\n",
      "Passenger1: Location: (4, 3), Destination: (0, 0)\n",
      "Done: False, {'taxi_1': False, 'taxi_2': False, '__all__': False}\n",
      "Passengers Status's: [2]\n",
      "+---------+\n",
      "|\u001b[35mX\u001b[0m: |F: :X|\n",
      "| : | : : |\n",
      "| : : : : |\n",
      "| | : | : |\n",
      "|X| :\u001b[41mG\u001b[0m|\u001b[43m\u001b[34;1mX\u001b[0m\u001b[0m: |\n",
      "+---------+\n",
      "  (west ,refuel)\n",
      "Taxi1-YELLOW: Fuel: 100, Location: (4,3), Collided: False\n",
      "Taxi2-RED: Fuel: 100, Location: (4,2), Collided: False\n",
      "Passenger1: Location: (4, 3), Destination: (0, 0)\n",
      "Done: False, {'taxi_1': False, 'taxi_2': False, '__all__': False}\n",
      "Passengers Status's: [2]\n",
      "+---------+\n",
      "|\u001b[35mX\u001b[0m: |F: :X|\n",
      "| : | : : |\n",
      "| : : : : |\n",
      "| | : | : |\n",
      "|X| :\u001b[41mG\u001b[0m|\u001b[43m\u001b[34;1mX\u001b[0m\u001b[0m: |\n",
      "+---------+\n",
      "  (west ,refuel)\n",
      "Taxi1-YELLOW: Fuel: 100, Location: (4,3), Collided: False\n",
      "Taxi2-RED: Fuel: 100, Location: (4,2), Collided: False\n",
      "Passenger1: Location: (4, 3), Destination: (0, 0)\n",
      "Done: False, {'taxi_1': False, 'taxi_2': False, '__all__': False}\n",
      "Passengers Status's: [2]\n",
      "+---------+\n",
      "|\u001b[35mX\u001b[0m: |F: :X|\n",
      "| : | : : |\n",
      "| : : : : |\n",
      "| | : | : |\n",
      "|X| :\u001b[41mG\u001b[0m|\u001b[43m\u001b[34;1mX\u001b[0m\u001b[0m: |\n",
      "+---------+\n",
      "  (west ,refuel)\n",
      "Taxi1-YELLOW: Fuel: 100, Location: (4,3), Collided: False\n",
      "Taxi2-RED: Fuel: 100, Location: (4,2), Collided: False\n",
      "Passenger1: Location: (4, 3), Destination: (0, 0)\n",
      "Done: False, {'taxi_1': False, 'taxi_2': False, '__all__': False}\n",
      "Passengers Status's: [2]\n"
     ],
     "output_type": "stream"
    }
   ],
   "source": [
    "controller = CentralizedRL(environment, centralized_agents, decision_maker)\n",
    "controller.run(render=True, max_iteration=10, max_episode_len=25, num_episodes=10, batch_size=0)\n"
   ]
  }
 ],
 "metadata": {
  "kernelspec": {
   "display_name": "Python 3",
   "language": "python",
   "name": "python3"
  },
  "language_info": {
   "codemirror_mode": {
    "name": "ipython",
    "version": 3
   },
   "file_extension": ".py",
   "mimetype": "text/x-python",
   "name": "python",
   "nbconvert_exporter": "python",
   "pygments_lexer": "ipython3",
   "version": "3.7.7"
  },
  "pycharm": {
   "stem_cell": {
    "cell_type": "raw",
    "source": [],
    "metadata": {
     "collapsed": false
    }
   }
  }
 },
 "nbformat": 4,
 "nbformat_minor": 1
}