{
 "cells": [
  {
   "cell_type": "markdown",
   "metadata": {
    "pycharm": {
     "name": "#%% md\n"
    }
   },
   "source": [
    "### Imports"
   ]
  },
  {
   "cell_type": "code",
   "execution_count": 1,
   "metadata": {
    "pycharm": {
     "is_executing": false,
     "name": "#%%\n"
    }
   },
   "outputs": [],
   "source": [
    "import sys\n",
    "import numpy as np\n",
    "sys.path.append('src')\n",
    "from control.controller_decentralized import Decentralized\n",
    "from control.controller_decentralized_RL import DecentralizedRL\n",
    "from control.controller_centralized_RL import CentralizedRL\n",
    "from agents.deep_policy_gradient import DeepPolicyGradient\n",
    "from agents.policy_gradient import PolicyGradient\n",
    "from agents.deep_q import DQN\n",
    "from agents.agent import Agent\n",
    "from agents.random_agent import RandomAgent\n",
    "from environments.env_wrapper import EnvWrappper\n"
   ]
  },
  {
   "cell_type": "markdown",
   "metadata": {},
   "source": [
    "### Environment Setup"
   ]
  },
  {
   "cell_type": "code",
   "execution_count": 2,
   "metadata": {
    "pycharm": {
     "is_executing": false,
     "name": "#%%\n"
    }
   },
   "outputs": [],
   "source": [
    "def set_env(environment_name):\n",
    "    print('Initializing environment...')\n",
    "\n",
    "    if environment_name == 'taxi':\n",
    "        sys.path.append('../environments/MultiTaxiEnv')\n",
    "        from environments.MultiTaxiEnv.taxi_environment import TaxiEnv\n",
    "        env = TaxiEnv(2)\n",
    "        # Make sure it works with our API:\n",
    "        env.agents = env.taxis_names\n",
    "        env.action_spaces = {\n",
    "            agent_name: env.action_space for agent_name in env.agents\n",
    "        }\n",
    "        env.observation_spaces = {\n",
    "            agent_name: env.observation_space for agent_name in env.agents\n",
    "        }\n",
    "        env.possible_agents = [agent for agent in env.agents]\n",
    "        needs_conv = False\n",
    "\n",
    "    elif environment_name == 'cleanup':\n",
    "        sys.path.append('../environments/cleanup')\n",
    "        from environments.cleanup.social_dilemmas.envs.cleanup import CleanupEnv\n",
    "        env = CleanupEnv(num_agents=5, render=True)\n",
    "        env.action_spaces = {\n",
    "            agent_name: env.action_space for agent_name in env.agents\n",
    "        }\n",
    "        env.observation_spaces = {\n",
    "            agent_name: env.observation_space for agent_name in env.agents\n",
    "        }\n",
    "        env.possible_agents = [agent for agent in env.agents.keys()]\n",
    "        needs_conv = True\n",
    "        \n",
    "    # Petting Zoo:\n",
    "    elif environment_name == 'particle':\n",
    "        from pettingzoo.mpe import simple_spread_v2\n",
    "        env = simple_spread_v2.parallel_env(max_cycles=np.inf)\n",
    "        needs_conv = False\n",
    "        \n",
    "    elif environment_name == 'piston':\n",
    "        from pettingzoo.butterfly import pistonball_v4\n",
    "        env = pistonball_v4.parallel_env(continuous=False)\n",
    "        needs_conv = True\n",
    "        \n",
    "    else:\n",
    "        print(\"Invalid Enviornment Name!\")\n",
    "        return\n",
    "        \n",
    "    return EnvWrappper(env, needs_conv=needs_conv)\n",
    "\n"
   ]
  },
  {
   "cell_type": "markdown",
   "metadata": {},
   "source": [
    "#### Choose Environment\n",
    "In the name variable enter one of the following options:\n",
    "    - MultiTaxi = 'taxi'\n",
    "    - Cleanup = 'cleanup'\n",
    "    - Particle = 'particle'\n",
    "    - PistonBall = 'piston'\n",
    "    "
   ]
  },
  {
   "cell_type": "code",
   "execution_count": 3,
   "metadata": {
    "pycharm": {
     "is_executing": false,
     "name": "#%%\n"
    }
   },
   "outputs": [
    {
     "name": "stdout",
     "output_type": "stream",
     "text": [
      "Initializing environment...\n"
     ]
    }
   ],
   "source": [
    "###\n",
    "name = \"taxi\"\n",
    "environment = set_env(name)"
   ]
  },
  {
   "cell_type": "markdown",
   "metadata": {},
   "source": [
    "## Decentralized\n"
   ]
  },
  {
   "cell_type": "markdown",
   "metadata": {},
   "source": [
    "### Agents Setup"
   ]
  },
  {
   "cell_type": "code",
   "execution_count": 4,
   "metadata": {
    "pycharm": {
     "is_executing": false,
     "name": "#%% \n"
    }
   },
   "outputs": [],
   "source": [
    "def create_decentralized_agent(policy_name, env):\n",
    "    num_obs = env.get_num_obs()\n",
    "    num_actions = env.get_num_actions()\n",
    "    needs_conv = env.get_needs_conv()\n",
    "    mapping_fn = lambda x: x.flatten() if not needs_conv else None\n",
    "    \n",
    "    if policy_name == 'pg':\n",
    "        return Agent(PolicyGradient(num_actions, num_obs, mapping_fn=mapping_fn))\n",
    "    \n",
    "    elif policy_name == 'dpg':\n",
    "        return Agent(DeepPolicyGradient(num_obs, num_actions, is_conv=needs_conv,\n",
    "                                        mapping_fn=mapping_fn)) \n",
    "        \n",
    "    elif policy_name == 'dqn':\n",
    "        return Agent(DQN(num_obs, num_actions, is_conv=needs_conv,\n",
    "                                        mapping_fn=mapping_fn)) \n",
    "        \n",
    "    print(\"Invalid Policy!\")       \n",
    "    return\n"
   ]
  },
  {
   "cell_type": "markdown",
   "metadata": {},
   "source": [
    "#### Choose Agents\n",
    "\n",
    "In the policy variable enter one of the following options:\n",
    "    - Policy Gradient = 'pg'\n",
    "    - Deep Policy Gradient = 'dpg'\n",
    "    - Deep Q-Network = 'dqn'\n",
    "\n"
   ]
  },
  {
   "cell_type": "code",
   "execution_count": 5,
   "metadata": {
    "pycharm": {
     "is_executing": false,
     "name": "#%%\n"
    }
   },
   "outputs": [],
   "source": [
    "decentralized_policy = \"pg\"\n",
    "env_agents = environment.get_env_agents()\n",
    "decentralized_agents = {agent_name: create_decentralized_agent(decentralized_policy, environment)\n",
    "          for agent_name in env_agents}"
   ]
  },
  {
   "cell_type": "markdown",
   "metadata": {},
   "source": [
    "### Run Test"
   ]
  },
  {
   "cell_type": "code",
   "execution_count": 6,
   "metadata": {
    "pycharm": {
     "is_executing": false,
     "name": "#%%\n"
    }
   },
   "outputs": [
    {
     "name": "stdout",
     "output_type": "stream",
     "text": [
      "+---------+\n",
      "|X: |F: :X|\n",
      "| : | : : |\n",
      "| : : : :\u001b[41m_\u001b[0m|\n",
      "| | : | : |\n",
      "|\u001b[34;1mX\u001b[0m| :\u001b[43mG\u001b[0m|\u001b[35mX\u001b[0m: |\n",
      "+---------+\n",
      "Taxi1-YELLOW: Fuel: 100, Location: (4,2), Collided: False\n",
      "Taxi2-RED: Fuel: 100, Location: (2,4), Collided: False\n",
      "Passenger1: Location: (4, 0), Destination: (4, 3)\n",
      "Done: False, {'taxi_1': False, 'taxi_2': False, '__all__': False}\n",
      "Passengers Status's: [2]\n",
      "+---------+\n",
      "|X: |F: :X|\n",
      "| : | : : |\n",
      "| : : :\u001b[41m_\u001b[0m: |\n",
      "| | : | : |\n",
      "|\u001b[34;1mX\u001b[0m| :\u001b[43mG\u001b[0m|\u001b[35mX\u001b[0m: |\n",
      "+---------+\n",
      "  (pickup ,west)\n",
      "Taxi1-YELLOW: Fuel: 100, Location: (4,2), Collided: False\n",
      "Taxi2-RED: Fuel: 99, Location: (2,3), Collided: False\n",
      "Passenger1: Location: (4, 0), Destination: (4, 3)\n",
      "Done: False, {'taxi_1': False, 'taxi_2': False, '__all__': False}\n",
      "Passengers Status's: [2]\n",
      "+---------+\n",
      "|X: |F: :X|\n",
      "| : | : : |\n",
      "| : :\u001b[41m_\u001b[0m: : |\n",
      "| | : | : |\n",
      "|\u001b[34;1mX\u001b[0m| :\u001b[43mG\u001b[0m|\u001b[35mX\u001b[0m: |\n",
      "+---------+\n",
      "  (pickup ,west)\n",
      "Taxi1-YELLOW: Fuel: 100, Location: (4,2), Collided: False\n",
      "Taxi2-RED: Fuel: 98, Location: (2,2), Collided: False\n",
      "Passenger1: Location: (4, 0), Destination: (4, 3)\n",
      "Done: False, {'taxi_1': False, 'taxi_2': False, '__all__': False}\n",
      "Passengers Status's: [2]\n",
      "+---------+\n",
      "|X: |F: :X|\n",
      "| : | : : |\n",
      "| :\u001b[41m_\u001b[0m: : : |\n",
      "| | : | : |\n",
      "|\u001b[34;1mX\u001b[0m| :\u001b[43mG\u001b[0m|\u001b[35mX\u001b[0m: |\n",
      "+---------+\n",
      "  (pickup ,west)\n",
      "Taxi1-YELLOW: Fuel: 100, Location: (4,2), Collided: False\n",
      "Taxi2-RED: Fuel: 97, Location: (2,1), Collided: False\n",
      "Passenger1: Location: (4, 0), Destination: (4, 3)\n",
      "Done: False, {'taxi_1': False, 'taxi_2': False, '__all__': False}\n",
      "Passengers Status's: [2]\n",
      "+---------+\n",
      "|X: |F: :X|\n",
      "| : | : : |\n",
      "|\u001b[41m_\u001b[0m: : : : |\n",
      "| | : | : |\n",
      "|\u001b[34;1mX\u001b[0m| :\u001b[43mG\u001b[0m|\u001b[35mX\u001b[0m: |\n",
      "+---------+\n",
      "  (pickup ,west)\n",
      "Taxi1-YELLOW: Fuel: 100, Location: (4,2), Collided: False\n",
      "Taxi2-RED: Fuel: 96, Location: (2,0), Collided: False\n",
      "Passenger1: Location: (4, 0), Destination: (4, 3)\n",
      "Done: False, {'taxi_1': False, 'taxi_2': False, '__all__': False}\n",
      "Passengers Status's: [2]\n",
      "+---------+\n",
      "|X: |F: :X|\n",
      "| : | : : |\n",
      "|\u001b[41m_\u001b[0m: : : : |\n",
      "| | : | : |\n",
      "|\u001b[34;1mX\u001b[0m| :\u001b[43mG\u001b[0m|\u001b[35mX\u001b[0m: |\n",
      "+---------+\n",
      "  (pickup ,west)\n",
      "Taxi1-YELLOW: Fuel: 100, Location: (4,2), Collided: False\n",
      "Taxi2-RED: Fuel: 96, Location: (2,0), Collided: False\n",
      "Passenger1: Location: (4, 0), Destination: (4, 3)\n",
      "Done: False, {'taxi_1': False, 'taxi_2': False, '__all__': False}\n",
      "Passengers Status's: [2]\n",
      "+---------+\n",
      "|X: |F: :X|\n",
      "| : | : : |\n",
      "|\u001b[41m_\u001b[0m: : : : |\n",
      "| | : | : |\n",
      "|\u001b[34;1mX\u001b[0m| :\u001b[43mG\u001b[0m|\u001b[35mX\u001b[0m: |\n",
      "+---------+\n",
      "  (pickup ,west)\n",
      "Taxi1-YELLOW: Fuel: 100, Location: (4,2), Collided: False\n",
      "Taxi2-RED: Fuel: 96, Location: (2,0), Collided: False\n",
      "Passenger1: Location: (4, 0), Destination: (4, 3)\n",
      "Done: False, {'taxi_1': False, 'taxi_2': False, '__all__': False}\n",
      "Passengers Status's: [2]\n",
      "+---------+\n",
      "|X: |F: :X|\n",
      "| : | : : |\n",
      "|\u001b[41m_\u001b[0m: : : : |\n",
      "| | : | : |\n",
      "|\u001b[34;1mX\u001b[0m| :\u001b[43mG\u001b[0m|\u001b[35mX\u001b[0m: |\n",
      "+---------+\n",
      "  (pickup ,west)\n",
      "Taxi1-YELLOW: Fuel: 100, Location: (4,2), Collided: False\n",
      "Taxi2-RED: Fuel: 96, Location: (2,0), Collided: False\n",
      "Passenger1: Location: (4, 0), Destination: (4, 3)\n",
      "Done: False, {'taxi_1': False, 'taxi_2': False, '__all__': False}\n",
      "Passengers Status's: [2]\n",
      "+---------+\n",
      "|X: |F: :X|\n",
      "| : | : : |\n",
      "|\u001b[41m_\u001b[0m: : : : |\n",
      "| | : | : |\n",
      "|\u001b[34;1mX\u001b[0m| :\u001b[43mG\u001b[0m|\u001b[35mX\u001b[0m: |\n",
      "+---------+\n",
      "  (pickup ,west)\n",
      "Taxi1-YELLOW: Fuel: 100, Location: (4,2), Collided: False\n",
      "Taxi2-RED: Fuel: 96, Location: (2,0), Collided: False\n",
      "Passenger1: Location: (4, 0), Destination: (4, 3)\n",
      "Done: False, {'taxi_1': False, 'taxi_2': False, '__all__': False}\n",
      "Passengers Status's: [2]\n",
      "+---------+\n",
      "|X: |F: :X|\n",
      "| : | : : |\n",
      "|\u001b[41m_\u001b[0m: : : : |\n",
      "| | : | : |\n",
      "|\u001b[34;1mX\u001b[0m| :\u001b[43mG\u001b[0m|\u001b[35mX\u001b[0m: |\n",
      "+---------+\n",
      "  (pickup ,west)\n",
      "Taxi1-YELLOW: Fuel: 100, Location: (4,2), Collided: False\n",
      "Taxi2-RED: Fuel: 96, Location: (2,0), Collided: False\n",
      "Passenger1: Location: (4, 0), Destination: (4, 3)\n",
      "Done: False, {'taxi_1': False, 'taxi_2': False, '__all__': False}\n",
      "Passengers Status's: [2]\n",
      "+---------+\n",
      "|X: |F: :X|\n",
      "| : | : : |\n",
      "|\u001b[41m_\u001b[0m: : : : |\n",
      "| | : | : |\n",
      "|\u001b[34;1mX\u001b[0m| :\u001b[43mG\u001b[0m|\u001b[35mX\u001b[0m: |\n",
      "+---------+\n",
      "  (pickup ,west)\n",
      "Taxi1-YELLOW: Fuel: 100, Location: (4,2), Collided: False\n",
      "Taxi2-RED: Fuel: 96, Location: (2,0), Collided: False\n",
      "Passenger1: Location: (4, 0), Destination: (4, 3)\n",
      "Done: False, {'taxi_1': False, 'taxi_2': False, '__all__': False}\n",
      "Passengers Status's: [2]\n"
     ]
    }
   ],
   "source": [
    "controller = DecentralizedRL(environment, decentralized_agents)\n",
    "controller.run(render=True, max_iteration=10, max_episode_len=25, num_episodes=10, batch_size=0)"
   ]
  },
  {
   "cell_type": "markdown",
   "metadata": {
    "pycharm": {
     "name": "#%% md\n"
    }
   },
   "source": [
    "## Centralized"
   ]
  },
  {
   "cell_type": "markdown",
   "metadata": {},
   "source": [
    "### Agent Setup"
   ]
  },
  {
   "cell_type": "code",
   "execution_count": 7,
   "metadata": {
    "pycharm": {
     "is_executing": false,
     "name": "#%% \n"
    }
   },
   "outputs": [],
   "source": [
    "def create_centralized_agent(policy_name, env):\n",
    "    needs_conv = env.get_needs_conv()\n",
    "    num_obs = env.get_num_obs() if needs_conv else\\\n",
    "        (1, env.get_num_obs()[::-1][0] * (len(env.get_env_agents())))\n",
    "    num_actions = (env.get_num_actions()) ** (len(env.get_env_agents()))    \n",
    "    mapping_fn = lambda x: x.flatten() if not needs_conv else None\n",
    "    \n",
    "    if policy_name == 'pg':\n",
    "        return Agent(PolicyGradient(num_actions, num_obs, mapping_fn=mapping_fn))\n",
    "    \n",
    "    elif policy_name == 'dpg':\n",
    "        return Agent(DeepPolicyGradient(num_obs, num_actions, is_conv=needs_conv,\n",
    "                                        mapping_fn=mapping_fn)) \n",
    "        \n",
    "    elif policy_name == 'dqn':\n",
    "        return Agent(DQN(num_obs, num_actions, is_conv=needs_conv,\n",
    "                                        mapping_fn=mapping_fn)) \n",
    "        \n",
    "    print(\"Invalid Policy!\")       \n",
    "    return"
   ]
  },
  {
   "cell_type": "markdown",
   "metadata": {
    "pycharm": {
     "name": "#%% md\n"
    }
   },
   "source": [
    "#### Choose Central Agent\n",
    "\n",
    "In the policy variable enter one of the following options:\n",
    "    - Policy Gradient = 'pg'\n",
    "    - Deep Policy Gradient = 'dpg'\n",
    "    - Deep Q-Network = 'dqn'\n",
    "\n"
   ]
  },
  {
   "cell_type": "code",
   "execution_count": 8,
   "metadata": {
    "pycharm": {
     "is_executing": false,
     "name": "#%%\n"
    }
   },
   "outputs": [],
   "source": [
    "centralized_policy = \"pg\"\n",
    "decision_maker = create_centralized_agent(centralized_policy, environment)\n",
    "env_agents = environment.get_env_agents()\n",
    "centralized_agents = {agent_name: None  for agent_name in env_agents}"
   ]
  },
  {
   "cell_type": "markdown",
   "metadata": {},
   "source": [
    "### Run Test"
   ]
  },
  {
   "cell_type": "code",
   "execution_count": 9,
   "metadata": {
    "pycharm": {
     "is_executing": false,
     "name": "#%%\n"
    }
   },
   "outputs": [
    {
     "name": "stdout",
     "output_type": "stream",
     "text": [
      "+---------+\n",
      "|\u001b[35mX\u001b[0m: |F: :X|\n",
      "| : | : : |\n",
      "| : : : : |\n",
      "| |\u001b[41m_\u001b[0m:\u001b[43m_\u001b[0m| : |\n",
      "|\u001b[34;1mX\u001b[0m| :G|X: |\n",
      "+---------+\n",
      "Taxi1-YELLOW: Fuel: 100, Location: (3,2), Collided: False\n",
      "Taxi2-RED: Fuel: 100, Location: (3,1), Collided: False\n",
      "Passenger1: Location: (4, 0), Destination: (0, 0)\n",
      "Done: False, {'taxi_1': False, 'taxi_2': False, '__all__': False}\n",
      "Passengers Status's: [2]\n",
      "+---------+\n",
      "|\u001b[35mX\u001b[0m: |F: :X|\n",
      "| : | : : |\n",
      "| : : : : |\n",
      "| |\u001b[41m_\u001b[0m:\u001b[43m_\u001b[0m| : |\n",
      "|\u001b[34;1mX\u001b[0m| :G|X: |\n",
      "+---------+\n",
      "  (pickup ,refuel)\n",
      "Taxi1-YELLOW: Fuel: 100, Location: (3,2), Collided: False\n",
      "Taxi2-RED: Fuel: 100, Location: (3,1), Collided: False\n",
      "Passenger1: Location: (4, 0), Destination: (0, 0)\n",
      "Done: False, {'taxi_1': False, 'taxi_2': False, '__all__': False}\n",
      "Passengers Status's: [2]\n",
      "+---------+\n",
      "|\u001b[35mX\u001b[0m: |F: :X|\n",
      "| : | : : |\n",
      "| : : : : |\n",
      "| |\u001b[41m_\u001b[0m:\u001b[43m_\u001b[0m| : |\n",
      "|\u001b[34;1mX\u001b[0m| :G|X: |\n",
      "+---------+\n",
      "  (pickup ,refuel)\n",
      "Taxi1-YELLOW: Fuel: 100, Location: (3,2), Collided: False\n",
      "Taxi2-RED: Fuel: 100, Location: (3,1), Collided: False\n",
      "Passenger1: Location: (4, 0), Destination: (0, 0)\n",
      "Done: False, {'taxi_1': False, 'taxi_2': False, '__all__': False}\n",
      "Passengers Status's: [2]\n",
      "+---------+\n",
      "|\u001b[35mX\u001b[0m: |F: :X|\n",
      "| : | : : |\n",
      "| : : : : |\n",
      "| |\u001b[41m_\u001b[0m:\u001b[43m_\u001b[0m| : |\n",
      "|\u001b[34;1mX\u001b[0m| :G|X: |\n",
      "+---------+\n",
      "  (pickup ,refuel)\n",
      "Taxi1-YELLOW: Fuel: 100, Location: (3,2), Collided: False\n",
      "Taxi2-RED: Fuel: 100, Location: (3,1), Collided: False\n",
      "Passenger1: Location: (4, 0), Destination: (0, 0)\n",
      "Done: False, {'taxi_1': False, 'taxi_2': False, '__all__': False}\n",
      "Passengers Status's: [2]\n",
      "+---------+\n",
      "|\u001b[35mX\u001b[0m: |F: :X|\n",
      "| : | : : |\n",
      "| : : : : |\n",
      "| |\u001b[41m_\u001b[0m:\u001b[43m_\u001b[0m| : |\n",
      "|\u001b[34;1mX\u001b[0m| :G|X: |\n",
      "+---------+\n",
      "  (pickup ,refuel)\n",
      "Taxi1-YELLOW: Fuel: 100, Location: (3,2), Collided: False\n",
      "Taxi2-RED: Fuel: 100, Location: (3,1), Collided: False\n",
      "Passenger1: Location: (4, 0), Destination: (0, 0)\n",
      "Done: False, {'taxi_1': False, 'taxi_2': False, '__all__': False}\n",
      "Passengers Status's: [2]\n",
      "+---------+\n",
      "|\u001b[35mX\u001b[0m: |F: :X|\n",
      "| : | : : |\n",
      "| : : : : |\n",
      "| |\u001b[41m_\u001b[0m:\u001b[43m_\u001b[0m| : |\n",
      "|\u001b[34;1mX\u001b[0m| :G|X: |\n",
      "+---------+\n",
      "  (pickup ,refuel)\n",
      "Taxi1-YELLOW: Fuel: 100, Location: (3,2), Collided: False\n",
      "Taxi2-RED: Fuel: 100, Location: (3,1), Collided: False\n",
      "Passenger1: Location: (4, 0), Destination: (0, 0)\n",
      "Done: False, {'taxi_1': False, 'taxi_2': False, '__all__': False}\n",
      "Passengers Status's: [2]\n",
      "+---------+\n",
      "|\u001b[35mX\u001b[0m: |F: :X|\n",
      "| : | : : |\n",
      "| : : : : |\n",
      "| |\u001b[41m_\u001b[0m:\u001b[43m_\u001b[0m| : |\n",
      "|\u001b[34;1mX\u001b[0m| :G|X: |\n",
      "+---------+\n",
      "  (pickup ,refuel)\n",
      "Taxi1-YELLOW: Fuel: 100, Location: (3,2), Collided: False\n",
      "Taxi2-RED: Fuel: 100, Location: (3,1), Collided: False\n",
      "Passenger1: Location: (4, 0), Destination: (0, 0)\n",
      "Done: False, {'taxi_1': False, 'taxi_2': False, '__all__': False}\n",
      "Passengers Status's: [2]\n",
      "+---------+\n",
      "|\u001b[35mX\u001b[0m: |F: :X|\n",
      "| : | : : |\n",
      "| : : : : |\n",
      "| |\u001b[41m_\u001b[0m:\u001b[43m_\u001b[0m| : |\n",
      "|\u001b[34;1mX\u001b[0m| :G|X: |\n",
      "+---------+\n",
      "  (pickup ,refuel)\n",
      "Taxi1-YELLOW: Fuel: 100, Location: (3,2), Collided: False\n",
      "Taxi2-RED: Fuel: 100, Location: (3,1), Collided: False\n",
      "Passenger1: Location: (4, 0), Destination: (0, 0)\n",
      "Done: False, {'taxi_1': False, 'taxi_2': False, '__all__': False}\n",
      "Passengers Status's: [2]\n",
      "+---------+\n",
      "|\u001b[35mX\u001b[0m: |F: :X|\n",
      "| : | : : |\n",
      "| : : : : |\n",
      "| |\u001b[41m_\u001b[0m:\u001b[43m_\u001b[0m| : |\n",
      "|\u001b[34;1mX\u001b[0m| :G|X: |\n",
      "+---------+\n",
      "  (pickup ,refuel)\n",
      "Taxi1-YELLOW: Fuel: 100, Location: (3,2), Collided: False\n",
      "Taxi2-RED: Fuel: 100, Location: (3,1), Collided: False\n",
      "Passenger1: Location: (4, 0), Destination: (0, 0)\n",
      "Done: False, {'taxi_1': False, 'taxi_2': False, '__all__': False}\n",
      "Passengers Status's: [2]\n",
      "+---------+\n",
      "|\u001b[35mX\u001b[0m: |F: :X|\n",
      "| : | : : |\n",
      "| : : : : |\n",
      "| |\u001b[41m_\u001b[0m:\u001b[43m_\u001b[0m| : |\n",
      "|\u001b[34;1mX\u001b[0m| :G|X: |\n",
      "+---------+\n",
      "  (pickup ,refuel)\n",
      "Taxi1-YELLOW: Fuel: 100, Location: (3,2), Collided: False\n",
      "Taxi2-RED: Fuel: 100, Location: (3,1), Collided: False\n",
      "Passenger1: Location: (4, 0), Destination: (0, 0)\n",
      "Done: False, {'taxi_1': False, 'taxi_2': False, '__all__': False}\n",
      "Passengers Status's: [2]\n",
      "+---------+\n",
      "|\u001b[35mX\u001b[0m: |F: :X|\n",
      "| : | : : |\n",
      "| : : : : |\n",
      "| |\u001b[41m_\u001b[0m:\u001b[43m_\u001b[0m| : |\n",
      "|\u001b[34;1mX\u001b[0m| :G|X: |\n",
      "+---------+\n",
      "  (pickup ,refuel)\n",
      "Taxi1-YELLOW: Fuel: 100, Location: (3,2), Collided: False\n",
      "Taxi2-RED: Fuel: 100, Location: (3,1), Collided: False\n",
      "Passenger1: Location: (4, 0), Destination: (0, 0)\n",
      "Done: False, {'taxi_1': False, 'taxi_2': False, '__all__': False}\n",
      "Passengers Status's: [2]\n"
     ]
    }
   ],
   "source": [
    "controller = CentralizedRL(environment, centralized_agents, decision_maker)\n",
    "controller.run(render=True, max_iteration=10, max_episode_len=25, num_episodes=10, batch_size=0)\n"
   ]
  },
  {
   "cell_type": "markdown",
   "metadata": {},
   "source": [
    "### Economic Control "
   ]
  },
  {
   "cell_type": "code",
   "execution_count": 10,
   "metadata": {
    "pycharm": {
     "is_executing": false
    }
   },
   "outputs": [],
   "source": [
    "from control.controller_economic import EconomicControl\n",
    "sys.path.append('environments/corners')\n",
    "from environments.corners.corners_env import CornersEnv\n",
    "from environments.corners.corners_agents import EconomicGoalAgent\n",
    "env = CornersEnv()\n",
    "\n",
    "tasks = [[0,0], [0, 4], [4, 0], [4, 4], [2,2]] # The goal position"
   ]
  },
  {
   "cell_type": "code",
   "execution_count": 11,
   "metadata": {
    "pycharm": {
     "is_executing": false
    }
   },
   "outputs": [
    {
     "name": "stdout",
     "output_type": "stream",
     "text": [
      "Step 1:\n",
      "╔═══════════╗\n",
      "║           ║\n",
      "║ A       C ║\n",
      "║       E   ║\n",
      "║   D       ║\n",
      "║         B ║\n",
      "╚═══════════╝\n",
      "\n",
      "Step 2:\n",
      "╔═══════════╗\n",
      "║ A       C ║\n",
      "║           ║\n",
      "║     E     ║\n",
      "║ D         ║\n",
      "║         B ║\n",
      "╚═══════════╝\n",
      "\n",
      "Step 3:\n",
      "╔═══════════╗\n",
      "║ A       C ║\n",
      "║           ║\n",
      "║     E     ║\n",
      "║           ║\n",
      "║ D       B ║\n",
      "╚═══════════╝\n",
      "\n",
      "Finished\n"
     ]
    }
   ],
   "source": [
    "agents = {agent: EconomicGoalAgent() for agent in env.agents}\n",
    "controller = EconomicControl(env, agents, tasks)\n",
    "controller.run(float('inf'))"
   ]
  },
  {
   "cell_type": "markdown",
   "metadata": {
    "pycharm": {
     "is_executing": false
    }
   },
   "source": [
    "### Random Agent"
   ]
  },
  {
   "cell_type": "code",
   "execution_count": 12,
   "metadata": {},
   "outputs": [
    {
     "name": "stdout",
     "output_type": "stream",
     "text": [
      "Initializing environment...\n"
     ]
    }
   ],
   "source": [
    "environment = set_env('taxi')"
   ]
  },
  {
   "cell_type": "code",
   "execution_count": 13,
   "metadata": {},
   "outputs": [
    {
     "name": "stdout",
     "output_type": "stream",
     "text": [
      "+---------+\n",
      "|X: |F: :\u001b[35mX\u001b[0m|\n",
      "| : | : : |\n",
      "| : : :\u001b[43m_\u001b[0m: |\n",
      "| | : |\u001b[41m_\u001b[0m: |\n",
      "|\u001b[34;1mX\u001b[0m| :G|X: |\n",
      "+---------+\n",
      "Taxi1-YELLOW: Fuel: 100, Location: (2,3), Collided: False\n",
      "Taxi2-RED: Fuel: 100, Location: (3,3), Collided: False\n",
      "Passenger1: Location: (4, 0), Destination: (0, 4)\n",
      "Done: False, {'taxi_1': False, 'taxi_2': False, '__all__': False}\n",
      "Passengers Status's: [2]\n",
      "+---------+\n",
      "|X: |F: :\u001b[35mX\u001b[0m|\n",
      "| : | : : |\n",
      "| : :\u001b[43m_\u001b[0m: : |\n",
      "| | : |\u001b[41m_\u001b[0m: |\n",
      "|\u001b[34;1mX\u001b[0m| :G|X: |\n",
      "+---------+\n",
      "  (west ,dropoff)\n",
      "Taxi1-YELLOW: Fuel: 99, Location: (2,2), Collided: False\n",
      "Taxi2-RED: Fuel: 100, Location: (3,3), Collided: False\n",
      "Passenger1: Location: (4, 0), Destination: (0, 4)\n",
      "Done: False, {'taxi_1': False, 'taxi_2': False, '__all__': False}\n",
      "Passengers Status's: [2]\n",
      "+---------+\n",
      "|X: |F: :\u001b[35mX\u001b[0m|\n",
      "| : | : : |\n",
      "| : : :\u001b[43m_\u001b[0m: |\n",
      "| | : |\u001b[41m_\u001b[0m: |\n",
      "|\u001b[34;1mX\u001b[0m| :G|X: |\n",
      "+---------+\n",
      "  (east ,refuel)\n",
      "Taxi1-YELLOW: Fuel: 98, Location: (2,3), Collided: False\n",
      "Taxi2-RED: Fuel: 100, Location: (3,3), Collided: False\n",
      "Passenger1: Location: (4, 0), Destination: (0, 4)\n",
      "Done: False, {'taxi_1': False, 'taxi_2': False, '__all__': False}\n",
      "Passengers Status's: [2]\n",
      "+---------+\n",
      "|X: |F: :\u001b[35mX\u001b[0m|\n",
      "| : | : : |\n",
      "| : : :\u001b[43m_\u001b[0m: |\n",
      "| | : |\u001b[41m_\u001b[0m: |\n",
      "|\u001b[34;1mX\u001b[0m| :G|X: |\n",
      "+---------+\n",
      "  (refuel ,dropoff)\n",
      "Taxi1-YELLOW: Fuel: 98, Location: (2,3), Collided: False\n",
      "Taxi2-RED: Fuel: 100, Location: (3,3), Collided: False\n",
      "Passenger1: Location: (4, 0), Destination: (0, 4)\n",
      "Done: False, {'taxi_1': False, 'taxi_2': False, '__all__': False}\n",
      "Passengers Status's: [2]\n",
      "+---------+\n",
      "|X: |F: :\u001b[35mX\u001b[0m|\n",
      "| : | : : |\n",
      "| : : : : |\n",
      "| | : |\u001b[40m\u001b[40m_\u001b[0m\u001b[0m: |\n",
      "|\u001b[34;1mX\u001b[0m| :G|X: |\n",
      "+---------+\n",
      "  (south ,dropoff)\n",
      "Taxi1-YELLOW: Fuel: 97, Location: (3,3), Collided: True\n",
      "Taxi2-RED: Fuel: 100, Location: (3,3), Collided: True\n",
      "Passenger1: Location: (4, 0), Destination: (0, 4)\n",
      "Done: True, {'taxi_1': True, 'taxi_2': True, '__all__': True}\n",
      "Passengers Status's: [2]\n"
     ]
    }
   ],
   "source": [
    "spaces = environment.get_env().action_spaces\n",
    "agents = {\n",
    "    agent_name: RandomAgent(spaces[agent_name])\n",
    "    for agent_name in spaces\n",
    "}\n",
    "controller = Decentralized(environment, agents)\n",
    "controller.run(True, 20)"
   ]
  },
  {
   "cell_type": "markdown",
   "metadata": {},
   "source": [
    "## Evaluating"
   ]
  },
  {
   "cell_type": "code",
   "execution_count": 14,
   "metadata": {},
   "outputs": [],
   "source": [
    "import matplotlib.pyplot as plt\n",
    "%matplotlib inline\n",
    "import control.evaluate\n",
    "\n",
    "def plot_hist(sums, name):\n",
    "    plt.hist(sums, rwidth=0.8)\n",
    "    plt.xlabel('Episodic Reward Sum')\n",
    "    plt.ylabel('Number of Episodes')\n",
    "    plt.title(f'Rewards Histogram - {name}')\n",
    "    print(f'Mean is {sum(sums)/len(sums)}')"
   ]
  },
  {
   "cell_type": "markdown",
   "metadata": {},
   "source": [
    "### Random Agents"
   ]
  },
  {
   "cell_type": "code",
   "execution_count": 15,
   "metadata": {},
   "outputs": [
    {
     "name": "stdout",
     "output_type": "stream",
     "text": [
      "Mean is -241.71\n"
     ]
    },
    {
     "data": {
      "image/png": "[encoded data removed]",
      "text/plain": [
       "<Figure size 432x288 with 1 Axes>"
      ]
     },
     "metadata": {
      "needs_background": "light"
     },
     "output_type": "display_data"
    }
   ],
   "source": [
    "controller = control.evaluate.make_random_decentralized_control()\n",
    "results = control.evaluate.evaluate_controller(controller, 100, RL=False)\n",
    "sums = control.evaluate.sum_all_agents(results)\n",
    "plot_hist(sums, 'Random Decentralized')"
   ]
  },
  {
   "cell_type": "markdown",
   "metadata": {},
   "source": [
    "### Decentralied DPG"
   ]
  },
  {
   "cell_type": "code",
   "execution_count": 16,
   "metadata": {},
   "outputs": [
    {
     "name": "stdout",
     "output_type": "stream",
     "text": [
      "Starting training...\n"
     ]
    },
    {
     "name": "stderr",
     "output_type": "stream",
     "text": [
      "  0%|                                                                                         | 0/1000 [00:00<?, ?it/s]src\\agents\\deep_policy_gradient.py:57: UserWarning: Implicit dimension choice for softmax has been deprecated. Change the call to include dim=X as an argument.\n",
      "  probs = F.softmax(self.policy.forward(observation))\n",
      "100%|██████████████████████████████████████████████████████████████████████████████| 1000/1000 [01:40<00:00,  9.94it/s]\n",
      "src\\agents\\deep_policy_gradient.py:76: UserWarning: Implicit dimension choice for softmax has been deprecated. Change the call to include dim=X as an argument.\n",
      "  probs = F.softmax(self.policy.forward(observation))\n"
     ]
    },
    {
     "name": "stdout",
     "output_type": "stream",
     "text": [
      "Mean is -39.87\n"
     ]
    },
    {
     "data": {
      "image/png": "[encoded data removed]",
      "text/plain": [
       "<Figure size 432x288 with 1 Axes>"
      ]
     },
     "metadata": {
      "needs_background": "light"
     },
     "output_type": "display_data"
    }
   ],
   "source": [
    "controller = control.evaluate.make_rl_decentralized_control('dpg')\n",
    "controller.train(25, 1000)\n",
    "results = control.evaluate.evaluate_controller(controller, 100, RL=True)\n",
    "sums = control.evaluate.sum_all_agents(results)\n",
    "plot_hist(sums, 'DPG Decentralized')"
   ]
  },
  {
   "cell_type": "markdown",
   "metadata": {},
   "source": [
    "## Centralized DPG"
   ]
  },
  {
   "cell_type": "code",
   "execution_count": 17,
   "metadata": {},
   "outputs": [
    {
     "name": "stdout",
     "output_type": "stream",
     "text": [
      "Starting training...\n"
     ]
    },
    {
     "name": "stderr",
     "output_type": "stream",
     "text": [
      "100%|██████████████████████████████████████████████████████████████████████████████| 1000/1000 [01:01<00:00, 16.22it/s]\n"
     ]
    },
    {
     "name": "stdout",
     "output_type": "stream",
     "text": [
      "Mean is -39.34\n"
     ]
    },
    {
     "data": {
      "image/png": "[encoded data removed]",
      "text/plain": [
       "<Figure size 432x288 with 1 Axes>"
      ]
     },
     "metadata": {
      "needs_background": "light"
     },
     "output_type": "display_data"
    }
   ],
   "source": [
    "controller = control.evaluate.make_rl_centralized_control('dpg')\n",
    "controller.train(25, 1000)\n",
    "results = control.evaluate.evaluate_controller(controller, 100, RL=True)\n",
    "sums = control.evaluate.sum_all_agents(results)\n",
    "plot_hist(sums, 'DPG Centralized')"
   ]
  }
 ],
 "metadata": {
  "kernelspec": {
   "display_name": "Python 3",
   "language": "python",
   "name": "python3"
  },
  "language_info": {
   "codemirror_mode": {
    "name": "ipython",
    "version": 3
   },
   "file_extension": ".py",
   "mimetype": "text/x-python",
   "name": "python",
   "nbconvert_exporter": "python",
   "pygments_lexer": "ipython3",
   "version": "3.7.10"
  },
  "pycharm": {
   "stem_cell": {
    "cell_type": "raw",
    "metadata": {
     "collapsed": false
    },
    "source": []
   }
  }
 },
 "nbformat": 4,
 "nbformat_minor": 1
}
